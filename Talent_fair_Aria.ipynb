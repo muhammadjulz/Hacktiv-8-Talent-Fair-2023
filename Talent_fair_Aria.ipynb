{
 "cells": [
  {
   "attachments": {},
   "cell_type": "markdown",
   "metadata": {},
   "source": [
    "# Best Model to Predict Plant Nutrition"
   ]
  },
  {
   "attachments": {},
   "cell_type": "markdown",
   "metadata": {},
   "source": [
    "# Name : Muhammad Julizar"
   ]
  },
  {
   "attachments": {},
   "cell_type": "markdown",
   "metadata": {},
   "source": [
    "# External Link"
   ]
  },
  {
   "attachments": {},
   "cell_type": "markdown",
   "metadata": {},
   "source": [
    "# 4. Import Library"
   ]
  },
  {
   "cell_type": "code",
   "execution_count": 1,
   "metadata": {},
   "outputs": [],
   "source": [
    "# Import Library\n",
    "import pandas as pd\n",
    "import numpy as np\n",
    "import matplotlib.pyplot as plt\n",
    "import seaborn as sns\n",
    "\n",
    "# Preprocessing\n",
    "from sklearn.model_selection import train_test_split\n",
    "from sklearn.preprocessing import MinMaxScaler\n",
    "from sklearn.preprocessing import OrdinalEncoder\n",
    "from sklearn.pipeline import Pipeline\n",
    "from sklearn.pipeline import make_pipeline\n",
    "from sklearn.compose import ColumnTransformer\n",
    "\n",
    "# Algoritma model\n",
    "from sklearn.linear_model import LinearRegression\n",
    "from sklearn.svm import SVR\n",
    "from sklearn.ensemble import RandomForestRegressor, GradientBoostingRegressor\n",
    "from sklearn.neighbors import KNeighborsRegressor\n",
    "\n",
    "# Model evaluation\n",
    "from sklearn.metrics import mean_absolute_error, mean_squared_error, r2_score\n",
    "from sklearn.model_selection import GridSearchCV\n",
    "\n",
    "# Model Saving and load\n",
    "import joblib\n",
    "import json\n"
   ]
  },
  {
   "attachments": {},
   "cell_type": "markdown",
   "metadata": {},
   "source": [
    "# 5. Loading Data"
   ]
  },
  {
   "cell_type": "code",
   "execution_count": 2,
   "metadata": {},
   "outputs": [],
   "source": [
    "df = pd.read_excel('D:\\Hacktiv 8\\Work\\Kalbe and Aria\\\\aria_data.xlsx')"
   ]
  },
  {
   "cell_type": "code",
   "execution_count": 3,
   "metadata": {},
   "outputs": [
    {
     "data": {
      "text/html": [
       "<div>\n",
       "<style scoped>\n",
       "    .dataframe tbody tr th:only-of-type {\n",
       "        vertical-align: middle;\n",
       "    }\n",
       "\n",
       "    .dataframe tbody tr th {\n",
       "        vertical-align: top;\n",
       "    }\n",
       "\n",
       "    .dataframe thead th {\n",
       "        text-align: right;\n",
       "    }\n",
       "</style>\n",
       "<table border=\"1\" class=\"dataframe\">\n",
       "  <thead>\n",
       "    <tr style=\"text-align: right;\">\n",
       "      <th></th>\n",
       "      <th>target</th>\n",
       "      <th>v1</th>\n",
       "      <th>v2</th>\n",
       "      <th>v3</th>\n",
       "      <th>v4</th>\n",
       "      <th>v5</th>\n",
       "      <th>v6</th>\n",
       "      <th>v7</th>\n",
       "      <th>v8</th>\n",
       "      <th>sample_type</th>\n",
       "    </tr>\n",
       "  </thead>\n",
       "  <tbody>\n",
       "    <tr>\n",
       "      <th>0</th>\n",
       "      <td>4.63</td>\n",
       "      <td>260.600000</td>\n",
       "      <td>199.000000</td>\n",
       "      <td>391.333333</td>\n",
       "      <td>371.733333</td>\n",
       "      <td>466.800000</td>\n",
       "      <td>273.133333</td>\n",
       "      <td>742.066667</td>\n",
       "      <td>4047.733333</td>\n",
       "      <td>lab 1</td>\n",
       "    </tr>\n",
       "    <tr>\n",
       "      <th>1</th>\n",
       "      <td>5.00</td>\n",
       "      <td>263.200000</td>\n",
       "      <td>194.600000</td>\n",
       "      <td>393.666667</td>\n",
       "      <td>348.533333</td>\n",
       "      <td>401.800000</td>\n",
       "      <td>220.066667</td>\n",
       "      <td>712.000000</td>\n",
       "      <td>4673.466667</td>\n",
       "      <td>lab 1</td>\n",
       "    </tr>\n",
       "    <tr>\n",
       "      <th>2</th>\n",
       "      <td>4.91</td>\n",
       "      <td>247.266667</td>\n",
       "      <td>205.800000</td>\n",
       "      <td>375.466667</td>\n",
       "      <td>354.866667</td>\n",
       "      <td>419.000000</td>\n",
       "      <td>222.133333</td>\n",
       "      <td>677.200000</td>\n",
       "      <td>4386.800000</td>\n",
       "      <td>lab 1</td>\n",
       "    </tr>\n",
       "    <tr>\n",
       "      <th>3</th>\n",
       "      <td>4.77</td>\n",
       "      <td>257.944444</td>\n",
       "      <td>191.833333</td>\n",
       "      <td>368.722222</td>\n",
       "      <td>334.666667</td>\n",
       "      <td>417.222222</td>\n",
       "      <td>195.944444</td>\n",
       "      <td>678.555556</td>\n",
       "      <td>4588.777778</td>\n",
       "      <td>lab 1</td>\n",
       "    </tr>\n",
       "    <tr>\n",
       "      <th>4</th>\n",
       "      <td>4.89</td>\n",
       "      <td>258.200000</td>\n",
       "      <td>195.733333</td>\n",
       "      <td>356.666667</td>\n",
       "      <td>333.333333</td>\n",
       "      <td>394.600000</td>\n",
       "      <td>196.000000</td>\n",
       "      <td>677.133333</td>\n",
       "      <td>4867.066667</td>\n",
       "      <td>lab 1</td>\n",
       "    </tr>\n",
       "  </tbody>\n",
       "</table>\n",
       "</div>"
      ],
      "text/plain": [
       "   target          v1          v2          v3          v4          v5  \\\n",
       "0    4.63  260.600000  199.000000  391.333333  371.733333  466.800000   \n",
       "1    5.00  263.200000  194.600000  393.666667  348.533333  401.800000   \n",
       "2    4.91  247.266667  205.800000  375.466667  354.866667  419.000000   \n",
       "3    4.77  257.944444  191.833333  368.722222  334.666667  417.222222   \n",
       "4    4.89  258.200000  195.733333  356.666667  333.333333  394.600000   \n",
       "\n",
       "           v6          v7           v8 sample_type  \n",
       "0  273.133333  742.066667  4047.733333       lab 1  \n",
       "1  220.066667  712.000000  4673.466667       lab 1  \n",
       "2  222.133333  677.200000  4386.800000       lab 1  \n",
       "3  195.944444  678.555556  4588.777778       lab 1  \n",
       "4  196.000000  677.133333  4867.066667       lab 1  "
      ]
     },
     "execution_count": 3,
     "metadata": {},
     "output_type": "execute_result"
    }
   ],
   "source": [
    "df.head()"
   ]
  },
  {
   "cell_type": "code",
   "execution_count": 4,
   "metadata": {},
   "outputs": [
    {
     "data": {
      "text/html": [
       "<div>\n",
       "<style scoped>\n",
       "    .dataframe tbody tr th:only-of-type {\n",
       "        vertical-align: middle;\n",
       "    }\n",
       "\n",
       "    .dataframe tbody tr th {\n",
       "        vertical-align: top;\n",
       "    }\n",
       "\n",
       "    .dataframe thead th {\n",
       "        text-align: right;\n",
       "    }\n",
       "</style>\n",
       "<table border=\"1\" class=\"dataframe\">\n",
       "  <thead>\n",
       "    <tr style=\"text-align: right;\">\n",
       "      <th></th>\n",
       "      <th>target</th>\n",
       "      <th>v1</th>\n",
       "      <th>v2</th>\n",
       "      <th>v3</th>\n",
       "      <th>v4</th>\n",
       "      <th>v5</th>\n",
       "      <th>v6</th>\n",
       "      <th>v7</th>\n",
       "      <th>v8</th>\n",
       "      <th>sample_type</th>\n",
       "    </tr>\n",
       "  </thead>\n",
       "  <tbody>\n",
       "    <tr>\n",
       "      <th>155</th>\n",
       "      <td>4.83</td>\n",
       "      <td>573.2500</td>\n",
       "      <td>361.250000</td>\n",
       "      <td>643.125000</td>\n",
       "      <td>489.812500</td>\n",
       "      <td>666.875</td>\n",
       "      <td>355.250000</td>\n",
       "      <td>712.312500</td>\n",
       "      <td>3943.687500</td>\n",
       "      <td>lab 2</td>\n",
       "    </tr>\n",
       "    <tr>\n",
       "      <th>156</th>\n",
       "      <td>4.47</td>\n",
       "      <td>678.3750</td>\n",
       "      <td>398.125000</td>\n",
       "      <td>678.250000</td>\n",
       "      <td>541.125000</td>\n",
       "      <td>704.000</td>\n",
       "      <td>393.500000</td>\n",
       "      <td>788.812500</td>\n",
       "      <td>3928.187500</td>\n",
       "      <td>lab 2</td>\n",
       "    </tr>\n",
       "    <tr>\n",
       "      <th>157</th>\n",
       "      <td>4.63</td>\n",
       "      <td>634.0000</td>\n",
       "      <td>382.866667</td>\n",
       "      <td>657.466667</td>\n",
       "      <td>505.066667</td>\n",
       "      <td>719.200</td>\n",
       "      <td>366.600000</td>\n",
       "      <td>792.133333</td>\n",
       "      <td>3861.200000</td>\n",
       "      <td>lab 2</td>\n",
       "    </tr>\n",
       "    <tr>\n",
       "      <th>158</th>\n",
       "      <td>4.35</td>\n",
       "      <td>615.3125</td>\n",
       "      <td>366.750000</td>\n",
       "      <td>642.937500</td>\n",
       "      <td>483.687500</td>\n",
       "      <td>675.625</td>\n",
       "      <td>359.062500</td>\n",
       "      <td>730.125000</td>\n",
       "      <td>3859.062500</td>\n",
       "      <td>lab 2</td>\n",
       "    </tr>\n",
       "    <tr>\n",
       "      <th>159</th>\n",
       "      <td>4.43</td>\n",
       "      <td>575.2000</td>\n",
       "      <td>350.266667</td>\n",
       "      <td>648.333333</td>\n",
       "      <td>495.400000</td>\n",
       "      <td>679.800</td>\n",
       "      <td>346.266667</td>\n",
       "      <td>718.733333</td>\n",
       "      <td>3903.333333</td>\n",
       "      <td>lab 2</td>\n",
       "    </tr>\n",
       "  </tbody>\n",
       "</table>\n",
       "</div>"
      ],
      "text/plain": [
       "     target        v1          v2          v3          v4       v5  \\\n",
       "155    4.83  573.2500  361.250000  643.125000  489.812500  666.875   \n",
       "156    4.47  678.3750  398.125000  678.250000  541.125000  704.000   \n",
       "157    4.63  634.0000  382.866667  657.466667  505.066667  719.200   \n",
       "158    4.35  615.3125  366.750000  642.937500  483.687500  675.625   \n",
       "159    4.43  575.2000  350.266667  648.333333  495.400000  679.800   \n",
       "\n",
       "             v6          v7           v8 sample_type  \n",
       "155  355.250000  712.312500  3943.687500       lab 2  \n",
       "156  393.500000  788.812500  3928.187500       lab 2  \n",
       "157  366.600000  792.133333  3861.200000       lab 2  \n",
       "158  359.062500  730.125000  3859.062500       lab 2  \n",
       "159  346.266667  718.733333  3903.333333       lab 2  "
      ]
     },
     "execution_count": 4,
     "metadata": {},
     "output_type": "execute_result"
    }
   ],
   "source": [
    "df.tail()"
   ]
  },
  {
   "cell_type": "code",
   "execution_count": 5,
   "metadata": {},
   "outputs": [
    {
     "data": {
      "text/html": [
       "<div>\n",
       "<style scoped>\n",
       "    .dataframe tbody tr th:only-of-type {\n",
       "        vertical-align: middle;\n",
       "    }\n",
       "\n",
       "    .dataframe tbody tr th {\n",
       "        vertical-align: top;\n",
       "    }\n",
       "\n",
       "    .dataframe thead th {\n",
       "        text-align: right;\n",
       "    }\n",
       "</style>\n",
       "<table border=\"1\" class=\"dataframe\">\n",
       "  <thead>\n",
       "    <tr style=\"text-align: right;\">\n",
       "      <th></th>\n",
       "      <th>target</th>\n",
       "      <th>v1</th>\n",
       "      <th>v2</th>\n",
       "      <th>v3</th>\n",
       "      <th>v4</th>\n",
       "      <th>v5</th>\n",
       "      <th>v6</th>\n",
       "      <th>v7</th>\n",
       "      <th>v8</th>\n",
       "    </tr>\n",
       "  </thead>\n",
       "  <tbody>\n",
       "    <tr>\n",
       "      <th>count</th>\n",
       "      <td>160.00000</td>\n",
       "      <td>160.000000</td>\n",
       "      <td>160.000000</td>\n",
       "      <td>160.000000</td>\n",
       "      <td>160.000000</td>\n",
       "      <td>160.000000</td>\n",
       "      <td>160.000000</td>\n",
       "      <td>160.000000</td>\n",
       "      <td>160.000000</td>\n",
       "    </tr>\n",
       "    <tr>\n",
       "      <th>mean</th>\n",
       "      <td>4.73375</td>\n",
       "      <td>389.892437</td>\n",
       "      <td>237.442677</td>\n",
       "      <td>480.573041</td>\n",
       "      <td>394.109622</td>\n",
       "      <td>487.316520</td>\n",
       "      <td>251.450820</td>\n",
       "      <td>714.737926</td>\n",
       "      <td>4456.913233</td>\n",
       "    </tr>\n",
       "    <tr>\n",
       "      <th>std</th>\n",
       "      <td>0.21405</td>\n",
       "      <td>148.673511</td>\n",
       "      <td>70.128690</td>\n",
       "      <td>118.798984</td>\n",
       "      <td>63.060442</td>\n",
       "      <td>100.941711</td>\n",
       "      <td>59.634652</td>\n",
       "      <td>51.148098</td>\n",
       "      <td>335.035933</td>\n",
       "    </tr>\n",
       "    <tr>\n",
       "      <th>min</th>\n",
       "      <td>4.13000</td>\n",
       "      <td>227.285714</td>\n",
       "      <td>178.800000</td>\n",
       "      <td>348.933333</td>\n",
       "      <td>313.733333</td>\n",
       "      <td>373.333333</td>\n",
       "      <td>189.200000</td>\n",
       "      <td>586.266667</td>\n",
       "      <td>3725.666667</td>\n",
       "    </tr>\n",
       "    <tr>\n",
       "      <th>25%</th>\n",
       "      <td>4.60000</td>\n",
       "      <td>268.608333</td>\n",
       "      <td>194.029018</td>\n",
       "      <td>384.419643</td>\n",
       "      <td>353.181250</td>\n",
       "      <td>418.583333</td>\n",
       "      <td>213.000000</td>\n",
       "      <td>678.385417</td>\n",
       "      <td>4273.437500</td>\n",
       "    </tr>\n",
       "    <tr>\n",
       "      <th>50%</th>\n",
       "      <td>4.72000</td>\n",
       "      <td>295.162500</td>\n",
       "      <td>204.187500</td>\n",
       "      <td>414.383929</td>\n",
       "      <td>370.741667</td>\n",
       "      <td>456.031250</td>\n",
       "      <td>226.062500</td>\n",
       "      <td>718.833333</td>\n",
       "      <td>4554.766667</td>\n",
       "    </tr>\n",
       "    <tr>\n",
       "      <th>75%</th>\n",
       "      <td>4.89000</td>\n",
       "      <td>536.409375</td>\n",
       "      <td>244.716667</td>\n",
       "      <td>591.611404</td>\n",
       "      <td>424.131250</td>\n",
       "      <td>496.475000</td>\n",
       "      <td>262.531250</td>\n",
       "      <td>751.446875</td>\n",
       "      <td>4700.612500</td>\n",
       "    </tr>\n",
       "    <tr>\n",
       "      <th>max</th>\n",
       "      <td>5.26000</td>\n",
       "      <td>678.375000</td>\n",
       "      <td>422.812500</td>\n",
       "      <td>722.312500</td>\n",
       "      <td>558.500000</td>\n",
       "      <td>721.000000</td>\n",
       "      <td>415.375000</td>\n",
       "      <td>853.466667</td>\n",
       "      <td>5086.375000</td>\n",
       "    </tr>\n",
       "  </tbody>\n",
       "</table>\n",
       "</div>"
      ],
      "text/plain": [
       "          target          v1          v2          v3          v4          v5  \\\n",
       "count  160.00000  160.000000  160.000000  160.000000  160.000000  160.000000   \n",
       "mean     4.73375  389.892437  237.442677  480.573041  394.109622  487.316520   \n",
       "std      0.21405  148.673511   70.128690  118.798984   63.060442  100.941711   \n",
       "min      4.13000  227.285714  178.800000  348.933333  313.733333  373.333333   \n",
       "25%      4.60000  268.608333  194.029018  384.419643  353.181250  418.583333   \n",
       "50%      4.72000  295.162500  204.187500  414.383929  370.741667  456.031250   \n",
       "75%      4.89000  536.409375  244.716667  591.611404  424.131250  496.475000   \n",
       "max      5.26000  678.375000  422.812500  722.312500  558.500000  721.000000   \n",
       "\n",
       "               v6          v7           v8  \n",
       "count  160.000000  160.000000   160.000000  \n",
       "mean   251.450820  714.737926  4456.913233  \n",
       "std     59.634652   51.148098   335.035933  \n",
       "min    189.200000  586.266667  3725.666667  \n",
       "25%    213.000000  678.385417  4273.437500  \n",
       "50%    226.062500  718.833333  4554.766667  \n",
       "75%    262.531250  751.446875  4700.612500  \n",
       "max    415.375000  853.466667  5086.375000  "
      ]
     },
     "execution_count": 5,
     "metadata": {},
     "output_type": "execute_result"
    }
   ],
   "source": [
    "df.describe()"
   ]
  },
  {
   "cell_type": "code",
   "execution_count": 6,
   "metadata": {},
   "outputs": [
    {
     "name": "stdout",
     "output_type": "stream",
     "text": [
      "<class 'pandas.core.frame.DataFrame'>\n",
      "RangeIndex: 160 entries, 0 to 159\n",
      "Data columns (total 10 columns):\n",
      " #   Column       Non-Null Count  Dtype  \n",
      "---  ------       --------------  -----  \n",
      " 0   target       160 non-null    float64\n",
      " 1   v1           160 non-null    float64\n",
      " 2   v2           160 non-null    float64\n",
      " 3   v3           160 non-null    float64\n",
      " 4   v4           160 non-null    float64\n",
      " 5   v5           160 non-null    float64\n",
      " 6   v6           160 non-null    float64\n",
      " 7   v7           160 non-null    float64\n",
      " 8   v8           160 non-null    float64\n",
      " 9   sample_type  160 non-null    object \n",
      "dtypes: float64(9), object(1)\n",
      "memory usage: 12.6+ KB\n"
     ]
    }
   ],
   "source": [
    "df.info()"
   ]
  },
  {
   "attachments": {},
   "cell_type": "markdown",
   "metadata": {},
   "source": [
    "# 6. Exploratory Data Analysis"
   ]
  },
  {
   "cell_type": "code",
   "execution_count": 7,
   "metadata": {},
   "outputs": [
    {
     "data": {
      "text/html": [
       "<div>\n",
       "<style scoped>\n",
       "    .dataframe tbody tr th:only-of-type {\n",
       "        vertical-align: middle;\n",
       "    }\n",
       "\n",
       "    .dataframe tbody tr th {\n",
       "        vertical-align: top;\n",
       "    }\n",
       "\n",
       "    .dataframe thead th {\n",
       "        text-align: right;\n",
       "    }\n",
       "</style>\n",
       "<table border=\"1\" class=\"dataframe\">\n",
       "  <thead>\n",
       "    <tr style=\"text-align: right;\">\n",
       "      <th></th>\n",
       "      <th>target</th>\n",
       "      <th>v1</th>\n",
       "      <th>v2</th>\n",
       "      <th>v3</th>\n",
       "      <th>v4</th>\n",
       "      <th>v5</th>\n",
       "      <th>v6</th>\n",
       "      <th>v7</th>\n",
       "      <th>v8</th>\n",
       "      <th>sample_type</th>\n",
       "    </tr>\n",
       "  </thead>\n",
       "  <tbody>\n",
       "    <tr>\n",
       "      <th>0</th>\n",
       "      <td>4.63</td>\n",
       "      <td>260.600000</td>\n",
       "      <td>199.000000</td>\n",
       "      <td>391.333333</td>\n",
       "      <td>371.733333</td>\n",
       "      <td>466.800000</td>\n",
       "      <td>273.133333</td>\n",
       "      <td>742.066667</td>\n",
       "      <td>4047.733333</td>\n",
       "      <td>lab 1</td>\n",
       "    </tr>\n",
       "    <tr>\n",
       "      <th>1</th>\n",
       "      <td>5.00</td>\n",
       "      <td>263.200000</td>\n",
       "      <td>194.600000</td>\n",
       "      <td>393.666667</td>\n",
       "      <td>348.533333</td>\n",
       "      <td>401.800000</td>\n",
       "      <td>220.066667</td>\n",
       "      <td>712.000000</td>\n",
       "      <td>4673.466667</td>\n",
       "      <td>lab 1</td>\n",
       "    </tr>\n",
       "    <tr>\n",
       "      <th>2</th>\n",
       "      <td>4.91</td>\n",
       "      <td>247.266667</td>\n",
       "      <td>205.800000</td>\n",
       "      <td>375.466667</td>\n",
       "      <td>354.866667</td>\n",
       "      <td>419.000000</td>\n",
       "      <td>222.133333</td>\n",
       "      <td>677.200000</td>\n",
       "      <td>4386.800000</td>\n",
       "      <td>lab 1</td>\n",
       "    </tr>\n",
       "    <tr>\n",
       "      <th>3</th>\n",
       "      <td>4.77</td>\n",
       "      <td>257.944444</td>\n",
       "      <td>191.833333</td>\n",
       "      <td>368.722222</td>\n",
       "      <td>334.666667</td>\n",
       "      <td>417.222222</td>\n",
       "      <td>195.944444</td>\n",
       "      <td>678.555556</td>\n",
       "      <td>4588.777778</td>\n",
       "      <td>lab 1</td>\n",
       "    </tr>\n",
       "    <tr>\n",
       "      <th>4</th>\n",
       "      <td>4.89</td>\n",
       "      <td>258.200000</td>\n",
       "      <td>195.733333</td>\n",
       "      <td>356.666667</td>\n",
       "      <td>333.333333</td>\n",
       "      <td>394.600000</td>\n",
       "      <td>196.000000</td>\n",
       "      <td>677.133333</td>\n",
       "      <td>4867.066667</td>\n",
       "      <td>lab 1</td>\n",
       "    </tr>\n",
       "  </tbody>\n",
       "</table>\n",
       "</div>"
      ],
      "text/plain": [
       "   target          v1          v2          v3          v4          v5  \\\n",
       "0    4.63  260.600000  199.000000  391.333333  371.733333  466.800000   \n",
       "1    5.00  263.200000  194.600000  393.666667  348.533333  401.800000   \n",
       "2    4.91  247.266667  205.800000  375.466667  354.866667  419.000000   \n",
       "3    4.77  257.944444  191.833333  368.722222  334.666667  417.222222   \n",
       "4    4.89  258.200000  195.733333  356.666667  333.333333  394.600000   \n",
       "\n",
       "           v6          v7           v8 sample_type  \n",
       "0  273.133333  742.066667  4047.733333       lab 1  \n",
       "1  220.066667  712.000000  4673.466667       lab 1  \n",
       "2  222.133333  677.200000  4386.800000       lab 1  \n",
       "3  195.944444  678.555556  4588.777778       lab 1  \n",
       "4  196.000000  677.133333  4867.066667       lab 1  "
      ]
     },
     "execution_count": 7,
     "metadata": {},
     "output_type": "execute_result"
    }
   ],
   "source": [
    "df.head()"
   ]
  },
  {
   "cell_type": "code",
   "execution_count": 8,
   "metadata": {},
   "outputs": [
    {
     "data": {
      "text/plain": [
       "target         0\n",
       "v1             0\n",
       "v2             0\n",
       "v3             0\n",
       "v4             0\n",
       "v5             0\n",
       "v6             0\n",
       "v7             0\n",
       "v8             0\n",
       "sample_type    0\n",
       "dtype: int64"
      ]
     },
     "execution_count": 8,
     "metadata": {},
     "output_type": "execute_result"
    }
   ],
   "source": [
    "df.isna().sum()"
   ]
  },
  {
   "cell_type": "code",
   "execution_count": 61,
   "metadata": {},
   "outputs": [
    {
     "name": "stdout",
     "output_type": "stream",
     "text": [
      "Nilai skewness pada kolom Target : -0.15828173643344287\n"
     ]
    },
    {
     "data": {
      "text/plain": [
       "Text(0.5, 1.0, 'Distribusi Outlier')"
      ]
     },
     "execution_count": 61,
     "metadata": {},
     "output_type": "execute_result"
    },
    {
     "data": {
      "image/png": "[encoded data removed]",
      "text/plain": [
       "<Figure size 1000x700 with 1 Axes>"
      ]
     },
     "metadata": {},
     "output_type": "display_data"
    }
   ],
   "source": [
    "plt.figure(figsize=(10,7))\n",
    "\n",
    "print(f'Nilai skewness pada kolom Target : {df.target.skew()}')\n",
    "sns.boxplot(y=df['target'], color='grey')\n",
    "plt.title('Distribusi Outlier', fontsize=20)\n"
   ]
  },
  {
   "attachments": {},
   "cell_type": "markdown",
   "metadata": {},
   "source": [
    "Jika dilihat dari distribusi outlier tergolong normal pada kolom `target`, karena memiliki nilai skewness -0.15828173643344287"
   ]
  },
  {
   "cell_type": "code",
   "execution_count": 64,
   "metadata": {},
   "outputs": [
    {
     "data": {
      "text/html": [
       "<div>\n",
       "<style scoped>\n",
       "    .dataframe tbody tr th:only-of-type {\n",
       "        vertical-align: middle;\n",
       "    }\n",
       "\n",
       "    .dataframe tbody tr th {\n",
       "        vertical-align: top;\n",
       "    }\n",
       "\n",
       "    .dataframe thead th {\n",
       "        text-align: right;\n",
       "    }\n",
       "</style>\n",
       "<table border=\"1\" class=\"dataframe\">\n",
       "  <thead>\n",
       "    <tr style=\"text-align: right;\">\n",
       "      <th></th>\n",
       "      <th>sample_type</th>\n",
       "    </tr>\n",
       "    <tr>\n",
       "      <th>sample_type</th>\n",
       "      <th></th>\n",
       "    </tr>\n",
       "  </thead>\n",
       "  <tbody>\n",
       "    <tr>\n",
       "      <th>lab 1</th>\n",
       "      <td>100</td>\n",
       "    </tr>\n",
       "    <tr>\n",
       "      <th>lab 2</th>\n",
       "      <td>60</td>\n",
       "    </tr>\n",
       "  </tbody>\n",
       "</table>\n",
       "</div>"
      ],
      "text/plain": [
       "             sample_type\n",
       "sample_type             \n",
       "lab 1                100\n",
       "lab 2                 60"
      ]
     },
     "execution_count": 64,
     "metadata": {},
     "output_type": "execute_result"
    }
   ],
   "source": [
    "df.groupby('sample_type')[['sample_type']].count()"
   ]
  },
  {
   "cell_type": "code",
   "execution_count": 10,
   "metadata": {},
   "outputs": [
    {
     "data": {
      "text/plain": [
       "Text(0.5, 1.0, 'Jumlah pengetesan di Lab')"
      ]
     },
     "execution_count": 10,
     "metadata": {},
     "output_type": "execute_result"
    },
    {
     "data": {
      "image/png": "[encoded data removed]",
      "text/plain": [
       "<Figure size 1000x800 with 1 Axes>"
      ]
     },
     "metadata": {},
     "output_type": "display_data"
    }
   ],
   "source": [
    "plt.figure(figsize=(10,8))\n",
    "sns.countplot(data=df, x=df.sample_type)\n",
    "plt.title('Jumlah pengetesan di Lab', fontsize=20)"
   ]
  },
  {
   "attachments": {},
   "cell_type": "markdown",
   "metadata": {},
   "source": [
    "Seperti yang kita lihat bahwa lebih banyak pengujian nutrisi pada Lab 1 dibanding Lab 2"
   ]
  },
  {
   "cell_type": "code",
   "execution_count": 11,
   "metadata": {},
   "outputs": [
    {
     "data": {
      "text/plain": [
       "<matplotlib.legend.Legend at 0x27dfe280190>"
      ]
     },
     "execution_count": 11,
     "metadata": {},
     "output_type": "execute_result"
    },
    {
     "data": {
      "image/png": "[encoded data removed]",
      "text/plain": [
       "<Figure size 1000x700 with 1 Axes>"
      ]
     },
     "metadata": {},
     "output_type": "display_data"
    }
   ],
   "source": [
    "# memisahkan value 0 dan 1 pada default_payment\n",
    "limit_0 = df.loc[df['sample_type'] == 'lab 1']['target']\n",
    "limit_1 = df.loc[df['sample_type'] == 'lab 2']['target']\n",
    "\n",
    "# membuat histogram perbandingan antara value 0 dan 1\n",
    "plt.figure(figsize = (10,7))\n",
    "sns.histplot(limit_0,kde=True,bins=50, color=\"red\")\n",
    "sns.histplot(limit_1,kde=True,bins=50, color=\"blue\")\n",
    "plt.legend(['Red = Lab 1', 'Blue = Lab 2'])"
   ]
  },
  {
   "attachments": {},
   "cell_type": "markdown",
   "metadata": {},
   "source": [
    "Pengetesan nutrisi pada tumbuhan paling banyak ada pada Lab1 dengan rata-rata data berada di range 4.6 sampai 4.8. sedangkan pada distribusi lab 2 bisa dikatakan merata."
   ]
  },
  {
   "cell_type": "code",
   "execution_count": 14,
   "metadata": {},
   "outputs": [
    {
     "data": {
      "text/plain": [
       "target   -0.158282\n",
       "v1        0.639911\n",
       "v2        1.461728\n",
       "v3        0.602655\n",
       "v4        1.143693\n",
       "v5        1.270640\n",
       "v6        1.295483\n",
       "v7       -0.107235\n",
       "v8       -0.766444\n",
       "dtype: float64"
      ]
     },
     "execution_count": 14,
     "metadata": {},
     "output_type": "execute_result"
    }
   ],
   "source": [
    "df.skew(numeric_only=True)"
   ]
  },
  {
   "attachments": {},
   "cell_type": "markdown",
   "metadata": {},
   "source": [
    "Hampir semua variabel memiliki nilai skewness yang abnormal, dikarenakan variabel2 ini penting untuk nutrisi dan jumlah data yang sedikit maka tidak dilakukan penghapusan outlier, karena outlier yang ada termasuk dalam natural outlier.\n",
    "Nilai skew akan dipakai untuk `menentukan metode scalling`, dan metode yang dipilih adalah MinMaxScaler atau normalisasi"
   ]
  },
  {
   "cell_type": "code",
   "execution_count": 17,
   "metadata": {},
   "outputs": [
    {
     "data": {
      "text/plain": [
       "<AxesSubplot: >"
      ]
     },
     "execution_count": 17,
     "metadata": {},
     "output_type": "execute_result"
    },
    {
     "data": {
      "image/png": "[encoded data removed]",
      "text/plain": [
       "<Figure size 2000x800 with 2 Axes>"
      ]
     },
     "metadata": {},
     "output_type": "display_data"
    }
   ],
   "source": [
    "plt.figure(figsize=(20,8))\n",
    "sns.heatmap(df.corr(numeric_only=True,method='spearman'), annot=True)\n"
   ]
  },
  {
   "attachments": {},
   "cell_type": "markdown",
   "metadata": {},
   "source": [
    "Metode korelasi yang dipilih adalah metode spearman, hal ini dikarenakan nilai skewness pada semua variabelnya rata-rata tidak normal atau skewed.\n",
    "\n",
    "Dari hasil korelasi diatas dapat kita lihat bahwa feature/ variabel yg dapat kita ambil hanya 6, yaitu:<br>\n",
    "`v2, v4, v5, v6, v7, v8`"
   ]
  },
  {
   "attachments": {},
   "cell_type": "markdown",
   "metadata": {},
   "source": [
    "# 7. Data Preprocessing"
   ]
  },
  {
   "cell_type": "code",
   "execution_count": 18,
   "metadata": {},
   "outputs": [
    {
     "data": {
      "text/html": [
       "<div>\n",
       "<style scoped>\n",
       "    .dataframe tbody tr th:only-of-type {\n",
       "        vertical-align: middle;\n",
       "    }\n",
       "\n",
       "    .dataframe tbody tr th {\n",
       "        vertical-align: top;\n",
       "    }\n",
       "\n",
       "    .dataframe thead th {\n",
       "        text-align: right;\n",
       "    }\n",
       "</style>\n",
       "<table border=\"1\" class=\"dataframe\">\n",
       "  <thead>\n",
       "    <tr style=\"text-align: right;\">\n",
       "      <th></th>\n",
       "      <th>target</th>\n",
       "      <th>v1</th>\n",
       "      <th>v2</th>\n",
       "      <th>v3</th>\n",
       "      <th>v4</th>\n",
       "      <th>v5</th>\n",
       "      <th>v6</th>\n",
       "      <th>v7</th>\n",
       "      <th>v8</th>\n",
       "      <th>sample_type</th>\n",
       "    </tr>\n",
       "  </thead>\n",
       "  <tbody>\n",
       "    <tr>\n",
       "      <th>0</th>\n",
       "      <td>4.63</td>\n",
       "      <td>260.600000</td>\n",
       "      <td>199.000000</td>\n",
       "      <td>391.333333</td>\n",
       "      <td>371.733333</td>\n",
       "      <td>466.800000</td>\n",
       "      <td>273.133333</td>\n",
       "      <td>742.066667</td>\n",
       "      <td>4047.733333</td>\n",
       "      <td>lab 1</td>\n",
       "    </tr>\n",
       "    <tr>\n",
       "      <th>1</th>\n",
       "      <td>5.00</td>\n",
       "      <td>263.200000</td>\n",
       "      <td>194.600000</td>\n",
       "      <td>393.666667</td>\n",
       "      <td>348.533333</td>\n",
       "      <td>401.800000</td>\n",
       "      <td>220.066667</td>\n",
       "      <td>712.000000</td>\n",
       "      <td>4673.466667</td>\n",
       "      <td>lab 1</td>\n",
       "    </tr>\n",
       "    <tr>\n",
       "      <th>2</th>\n",
       "      <td>4.91</td>\n",
       "      <td>247.266667</td>\n",
       "      <td>205.800000</td>\n",
       "      <td>375.466667</td>\n",
       "      <td>354.866667</td>\n",
       "      <td>419.000000</td>\n",
       "      <td>222.133333</td>\n",
       "      <td>677.200000</td>\n",
       "      <td>4386.800000</td>\n",
       "      <td>lab 1</td>\n",
       "    </tr>\n",
       "    <tr>\n",
       "      <th>3</th>\n",
       "      <td>4.77</td>\n",
       "      <td>257.944444</td>\n",
       "      <td>191.833333</td>\n",
       "      <td>368.722222</td>\n",
       "      <td>334.666667</td>\n",
       "      <td>417.222222</td>\n",
       "      <td>195.944444</td>\n",
       "      <td>678.555556</td>\n",
       "      <td>4588.777778</td>\n",
       "      <td>lab 1</td>\n",
       "    </tr>\n",
       "    <tr>\n",
       "      <th>4</th>\n",
       "      <td>4.89</td>\n",
       "      <td>258.200000</td>\n",
       "      <td>195.733333</td>\n",
       "      <td>356.666667</td>\n",
       "      <td>333.333333</td>\n",
       "      <td>394.600000</td>\n",
       "      <td>196.000000</td>\n",
       "      <td>677.133333</td>\n",
       "      <td>4867.066667</td>\n",
       "      <td>lab 1</td>\n",
       "    </tr>\n",
       "  </tbody>\n",
       "</table>\n",
       "</div>"
      ],
      "text/plain": [
       "   target          v1          v2          v3          v4          v5  \\\n",
       "0    4.63  260.600000  199.000000  391.333333  371.733333  466.800000   \n",
       "1    5.00  263.200000  194.600000  393.666667  348.533333  401.800000   \n",
       "2    4.91  247.266667  205.800000  375.466667  354.866667  419.000000   \n",
       "3    4.77  257.944444  191.833333  368.722222  334.666667  417.222222   \n",
       "4    4.89  258.200000  195.733333  356.666667  333.333333  394.600000   \n",
       "\n",
       "           v6          v7           v8 sample_type  \n",
       "0  273.133333  742.066667  4047.733333       lab 1  \n",
       "1  220.066667  712.000000  4673.466667       lab 1  \n",
       "2  222.133333  677.200000  4386.800000       lab 1  \n",
       "3  195.944444  678.555556  4588.777778       lab 1  \n",
       "4  196.000000  677.133333  4867.066667       lab 1  "
      ]
     },
     "execution_count": 18,
     "metadata": {},
     "output_type": "execute_result"
    }
   ],
   "source": [
    "# memisahkan daata inference\n",
    "df_inf = df.sample(10, random_state=7)\n",
    "df_train_test = df.drop(df_inf.index)\n",
    "df_train_test.reset_index(drop=True,inplace=True)\n",
    "df_train_test.head()"
   ]
  },
  {
   "attachments": {},
   "cell_type": "markdown",
   "metadata": {},
   "source": [
    "## Feature Selection"
   ]
  },
  {
   "cell_type": "code",
   "execution_count": 19,
   "metadata": {},
   "outputs": [
    {
     "name": "stdout",
     "output_type": "stream",
     "text": [
      "['v2', 'v4', 'v5', 'v6', 'v7', 'v8']\n"
     ]
    }
   ],
   "source": [
    "num_columns = ['v2', 'v4', 'v5', 'v6', 'v7','v8']\n",
    "\n",
    "print(num_columns)"
   ]
  },
  {
   "cell_type": "code",
   "execution_count": 20,
   "metadata": {},
   "outputs": [],
   "source": [
    "X =  df_train_test.drop(['target'], axis=1)\n",
    "y = df_train_test['target']"
   ]
  },
  {
   "cell_type": "code",
   "execution_count": 21,
   "metadata": {},
   "outputs": [
    {
     "name": "stdout",
     "output_type": "stream",
     "text": [
      "Data train : (120, 9)\n",
      "Data test : (30, 9)\n"
     ]
    }
   ],
   "source": [
    "# memisahkan data train dan test\n",
    "X_train, X_test, y_train, y_test = train_test_split(X,y, test_size=0.2, random_state=78)\n",
    "print(f'Data train : {X_train.shape}')\n",
    "print(f'Data test : {X_test.shape}')"
   ]
  },
  {
   "cell_type": "code",
   "execution_count": 22,
   "metadata": {},
   "outputs": [
    {
     "data": {
      "text/html": [
       "<div>\n",
       "<style scoped>\n",
       "    .dataframe tbody tr th:only-of-type {\n",
       "        vertical-align: middle;\n",
       "    }\n",
       "\n",
       "    .dataframe tbody tr th {\n",
       "        vertical-align: top;\n",
       "    }\n",
       "\n",
       "    .dataframe thead th {\n",
       "        text-align: right;\n",
       "    }\n",
       "</style>\n",
       "<table border=\"1\" class=\"dataframe\">\n",
       "  <thead>\n",
       "    <tr style=\"text-align: right;\">\n",
       "      <th></th>\n",
       "      <th>v1</th>\n",
       "      <th>v2</th>\n",
       "      <th>v3</th>\n",
       "      <th>v4</th>\n",
       "      <th>v5</th>\n",
       "      <th>v6</th>\n",
       "      <th>v7</th>\n",
       "      <th>v8</th>\n",
       "      <th>sample_type</th>\n",
       "    </tr>\n",
       "  </thead>\n",
       "  <tbody>\n",
       "    <tr>\n",
       "      <th>122</th>\n",
       "      <td>593.812500</td>\n",
       "      <td>379.625000</td>\n",
       "      <td>637.125000</td>\n",
       "      <td>489.000000</td>\n",
       "      <td>672.875000</td>\n",
       "      <td>368.3750</td>\n",
       "      <td>689.375000</td>\n",
       "      <td>3836.5625</td>\n",
       "      <td>lab 2</td>\n",
       "    </tr>\n",
       "    <tr>\n",
       "      <th>140</th>\n",
       "      <td>583.875000</td>\n",
       "      <td>349.187500</td>\n",
       "      <td>641.625000</td>\n",
       "      <td>477.000000</td>\n",
       "      <td>664.000000</td>\n",
       "      <td>327.8125</td>\n",
       "      <td>665.750000</td>\n",
       "      <td>3917.6250</td>\n",
       "      <td>lab 2</td>\n",
       "    </tr>\n",
       "    <tr>\n",
       "      <th>100</th>\n",
       "      <td>495.333333</td>\n",
       "      <td>182.933333</td>\n",
       "      <td>549.533333</td>\n",
       "      <td>344.533333</td>\n",
       "      <td>457.866667</td>\n",
       "      <td>189.2000</td>\n",
       "      <td>586.266667</td>\n",
       "      <td>4324.6000</td>\n",
       "      <td>lab 2</td>\n",
       "    </tr>\n",
       "    <tr>\n",
       "      <th>79</th>\n",
       "      <td>284.875000</td>\n",
       "      <td>198.562500</td>\n",
       "      <td>412.187500</td>\n",
       "      <td>378.125000</td>\n",
       "      <td>457.562500</td>\n",
       "      <td>246.2500</td>\n",
       "      <td>745.375000</td>\n",
       "      <td>4745.3750</td>\n",
       "      <td>lab 1</td>\n",
       "    </tr>\n",
       "    <tr>\n",
       "      <th>21</th>\n",
       "      <td>248.937500</td>\n",
       "      <td>182.187500</td>\n",
       "      <td>359.875000</td>\n",
       "      <td>315.625000</td>\n",
       "      <td>389.500000</td>\n",
       "      <td>199.5625</td>\n",
       "      <td>620.875000</td>\n",
       "      <td>4658.9375</td>\n",
       "      <td>lab 1</td>\n",
       "    </tr>\n",
       "  </tbody>\n",
       "</table>\n",
       "</div>"
      ],
      "text/plain": [
       "             v1          v2          v3          v4          v5        v6  \\\n",
       "122  593.812500  379.625000  637.125000  489.000000  672.875000  368.3750   \n",
       "140  583.875000  349.187500  641.625000  477.000000  664.000000  327.8125   \n",
       "100  495.333333  182.933333  549.533333  344.533333  457.866667  189.2000   \n",
       "79   284.875000  198.562500  412.187500  378.125000  457.562500  246.2500   \n",
       "21   248.937500  182.187500  359.875000  315.625000  389.500000  199.5625   \n",
       "\n",
       "             v7         v8 sample_type  \n",
       "122  689.375000  3836.5625       lab 2  \n",
       "140  665.750000  3917.6250       lab 2  \n",
       "100  586.266667  4324.6000       lab 2  \n",
       "79   745.375000  4745.3750       lab 1  \n",
       "21   620.875000  4658.9375       lab 1  "
      ]
     },
     "execution_count": 22,
     "metadata": {},
     "output_type": "execute_result"
    }
   ],
   "source": [
    "X_train.head()"
   ]
  },
  {
   "attachments": {},
   "cell_type": "markdown",
   "metadata": {},
   "source": [
    "## Scalling"
   ]
  },
  {
   "cell_type": "code",
   "execution_count": 23,
   "metadata": {},
   "outputs": [
    {
     "data": {
      "text/html": [
       "<style>#sk-container-id-1 {color: black;background-color: white;}#sk-container-id-1 pre{padding: 0;}#sk-container-id-1 div.sk-toggleable {background-color: white;}#sk-container-id-1 label.sk-toggleable__label {cursor: pointer;display: block;width: 100%;margin-bottom: 0;padding: 0.3em;box-sizing: border-box;text-align: center;}#sk-container-id-1 label.sk-toggleable__label-arrow:before {content: \"▸\";float: left;margin-right: 0.25em;color: #696969;}#sk-container-id-1 label.sk-toggleable__label-arrow:hover:before {color: black;}#sk-container-id-1 div.sk-estimator:hover label.sk-toggleable__label-arrow:before {color: black;}#sk-container-id-1 div.sk-toggleable__content {max-height: 0;max-width: 0;overflow: hidden;text-align: left;background-color: #f0f8ff;}#sk-container-id-1 div.sk-toggleable__content pre {margin: 0.2em;color: black;border-radius: 0.25em;background-color: #f0f8ff;}#sk-container-id-1 input.sk-toggleable__control:checked~div.sk-toggleable__content {max-height: 200px;max-width: 100%;overflow: auto;}#sk-container-id-1 input.sk-toggleable__control:checked~label.sk-toggleable__label-arrow:before {content: \"▾\";}#sk-container-id-1 div.sk-estimator input.sk-toggleable__control:checked~label.sk-toggleable__label {background-color: #d4ebff;}#sk-container-id-1 div.sk-label input.sk-toggleable__control:checked~label.sk-toggleable__label {background-color: #d4ebff;}#sk-container-id-1 input.sk-hidden--visually {border: 0;clip: rect(1px 1px 1px 1px);clip: rect(1px, 1px, 1px, 1px);height: 1px;margin: -1px;overflow: hidden;padding: 0;position: absolute;width: 1px;}#sk-container-id-1 div.sk-estimator {font-family: monospace;background-color: #f0f8ff;border: 1px dotted black;border-radius: 0.25em;box-sizing: border-box;margin-bottom: 0.5em;}#sk-container-id-1 div.sk-estimator:hover {background-color: #d4ebff;}#sk-container-id-1 div.sk-parallel-item::after {content: \"\";width: 100%;border-bottom: 1px solid gray;flex-grow: 1;}#sk-container-id-1 div.sk-label:hover label.sk-toggleable__label {background-color: #d4ebff;}#sk-container-id-1 div.sk-serial::before {content: \"\";position: absolute;border-left: 1px solid gray;box-sizing: border-box;top: 0;bottom: 0;left: 50%;z-index: 0;}#sk-container-id-1 div.sk-serial {display: flex;flex-direction: column;align-items: center;background-color: white;padding-right: 0.2em;padding-left: 0.2em;position: relative;}#sk-container-id-1 div.sk-item {position: relative;z-index: 1;}#sk-container-id-1 div.sk-parallel {display: flex;align-items: stretch;justify-content: center;background-color: white;position: relative;}#sk-container-id-1 div.sk-item::before, #sk-container-id-1 div.sk-parallel-item::before {content: \"\";position: absolute;border-left: 1px solid gray;box-sizing: border-box;top: 0;bottom: 0;left: 50%;z-index: -1;}#sk-container-id-1 div.sk-parallel-item {display: flex;flex-direction: column;z-index: 1;position: relative;background-color: white;}#sk-container-id-1 div.sk-parallel-item:first-child::after {align-self: flex-end;width: 50%;}#sk-container-id-1 div.sk-parallel-item:last-child::after {align-self: flex-start;width: 50%;}#sk-container-id-1 div.sk-parallel-item:only-child::after {width: 0;}#sk-container-id-1 div.sk-dashed-wrapped {border: 1px dashed gray;margin: 0 0.4em 0.5em 0.4em;box-sizing: border-box;padding-bottom: 0.4em;background-color: white;}#sk-container-id-1 div.sk-label label {font-family: monospace;font-weight: bold;display: inline-block;line-height: 1.2em;}#sk-container-id-1 div.sk-label-container {text-align: center;}#sk-container-id-1 div.sk-container {/* jupyter's `normalize.less` sets `[hidden] { display: none; }` but bootstrap.min.css set `[hidden] { display: none !important; }` so we also need the `!important` here to be able to override the default hidden behavior on the sphinx rendered scikit-learn.org. See: https://github.com/scikit-learn/scikit-learn/issues/21755 */display: inline-block !important;position: relative;}#sk-container-id-1 div.sk-text-repr-fallback {display: none;}</style><div id=\"sk-container-id-1\" class=\"sk-top-container\"><div class=\"sk-text-repr-fallback\"><pre>ColumnTransformer(transformers=[(&#x27;pipe_num&#x27;, MinMaxScaler(),\n",
       "                                 [&#x27;v2&#x27;, &#x27;v4&#x27;, &#x27;v5&#x27;, &#x27;v6&#x27;, &#x27;v7&#x27;, &#x27;v8&#x27;])])</pre><b>In a Jupyter environment, please rerun this cell to show the HTML representation or trust the notebook. <br />On GitHub, the HTML representation is unable to render, please try loading this page with nbviewer.org.</b></div><div class=\"sk-container\" hidden><div class=\"sk-item sk-dashed-wrapped\"><div class=\"sk-label-container\"><div class=\"sk-label sk-toggleable\"><input class=\"sk-toggleable__control sk-hidden--visually\" id=\"sk-estimator-id-1\" type=\"checkbox\" ><label for=\"sk-estimator-id-1\" class=\"sk-toggleable__label sk-toggleable__label-arrow\">ColumnTransformer</label><div class=\"sk-toggleable__content\"><pre>ColumnTransformer(transformers=[(&#x27;pipe_num&#x27;, MinMaxScaler(),\n",
       "                                 [&#x27;v2&#x27;, &#x27;v4&#x27;, &#x27;v5&#x27;, &#x27;v6&#x27;, &#x27;v7&#x27;, &#x27;v8&#x27;])])</pre></div></div></div><div class=\"sk-parallel\"><div class=\"sk-parallel-item\"><div class=\"sk-item\"><div class=\"sk-label-container\"><div class=\"sk-label sk-toggleable\"><input class=\"sk-toggleable__control sk-hidden--visually\" id=\"sk-estimator-id-2\" type=\"checkbox\" ><label for=\"sk-estimator-id-2\" class=\"sk-toggleable__label sk-toggleable__label-arrow\">pipe_num</label><div class=\"sk-toggleable__content\"><pre>[&#x27;v2&#x27;, &#x27;v4&#x27;, &#x27;v5&#x27;, &#x27;v6&#x27;, &#x27;v7&#x27;, &#x27;v8&#x27;]</pre></div></div></div><div class=\"sk-serial\"><div class=\"sk-item\"><div class=\"sk-estimator sk-toggleable\"><input class=\"sk-toggleable__control sk-hidden--visually\" id=\"sk-estimator-id-3\" type=\"checkbox\" ><label for=\"sk-estimator-id-3\" class=\"sk-toggleable__label sk-toggleable__label-arrow\">MinMaxScaler</label><div class=\"sk-toggleable__content\"><pre>MinMaxScaler()</pre></div></div></div></div></div></div></div></div></div></div>"
      ],
      "text/plain": [
       "ColumnTransformer(transformers=[('pipe_num', MinMaxScaler(),\n",
       "                                 ['v2', 'v4', 'v5', 'v6', 'v7', 'v8'])])"
      ]
     },
     "execution_count": 23,
     "metadata": {},
     "output_type": "execute_result"
    }
   ],
   "source": [
    "# Pembuatan process scalling dan encoding utk pipeline\n",
    "processor = ColumnTransformer([\n",
    "    ('pipe_num', MinMaxScaler(), num_columns),\n",
    "])\n",
    "processor"
   ]
  },
  {
   "attachments": {},
   "cell_type": "markdown",
   "metadata": {},
   "source": [
    "# 8. Modelling"
   ]
  },
  {
   "cell_type": "code",
   "execution_count": 24,
   "metadata": {},
   "outputs": [],
   "source": [
    "# Definition 4 model\n",
    "lr = LinearRegression()\n",
    "svm = SVR()\n",
    "rf = RandomForestRegressor(random_state=77)\n",
    "gb = GradientBoostingRegressor()\n",
    "knn = KNeighborsRegressor()\n"
   ]
  },
  {
   "cell_type": "code",
   "execution_count": 25,
   "metadata": {},
   "outputs": [],
   "source": [
    "# model training using pipeline\n",
    "pipeline_lr = Pipeline(\n",
    "    steps=[(\"processor\", processor), (\"lr\", lr)])\n",
    "\n",
    "pipeline_svm= Pipeline(\n",
    "    steps=[(\"processor\", processor), (\"svm\", svm)])\n",
    "\n",
    "pipeline_rf = Pipeline(\n",
    "    steps=[('processor', processor), ('rf', rf)])\n",
    "\n",
    "pipeline_gb = Pipeline(\n",
    "    steps=[('processor', processor), ('gb', gb)])\n",
    "\n",
    "pipeline_knn = Pipeline(\n",
    "    steps=[('processor', processor), ('knn', knn)])"
   ]
  },
  {
   "attachments": {},
   "cell_type": "markdown",
   "metadata": {},
   "source": [
    "# 9. Model Training"
   ]
  },
  {
   "attachments": {},
   "cell_type": "markdown",
   "metadata": {},
   "source": [
    "## A. Linear Regression"
   ]
  },
  {
   "cell_type": "code",
   "execution_count": 26,
   "metadata": {},
   "outputs": [
    {
     "data": {
      "text/html": [
       "<style>#sk-container-id-2 {color: black;background-color: white;}#sk-container-id-2 pre{padding: 0;}#sk-container-id-2 div.sk-toggleable {background-color: white;}#sk-container-id-2 label.sk-toggleable__label {cursor: pointer;display: block;width: 100%;margin-bottom: 0;padding: 0.3em;box-sizing: border-box;text-align: center;}#sk-container-id-2 label.sk-toggleable__label-arrow:before {content: \"▸\";float: left;margin-right: 0.25em;color: #696969;}#sk-container-id-2 label.sk-toggleable__label-arrow:hover:before {color: black;}#sk-container-id-2 div.sk-estimator:hover label.sk-toggleable__label-arrow:before {color: black;}#sk-container-id-2 div.sk-toggleable__content {max-height: 0;max-width: 0;overflow: hidden;text-align: left;background-color: #f0f8ff;}#sk-container-id-2 div.sk-toggleable__content pre {margin: 0.2em;color: black;border-radius: 0.25em;background-color: #f0f8ff;}#sk-container-id-2 input.sk-toggleable__control:checked~div.sk-toggleable__content {max-height: 200px;max-width: 100%;overflow: auto;}#sk-container-id-2 input.sk-toggleable__control:checked~label.sk-toggleable__label-arrow:before {content: \"▾\";}#sk-container-id-2 div.sk-estimator input.sk-toggleable__control:checked~label.sk-toggleable__label {background-color: #d4ebff;}#sk-container-id-2 div.sk-label input.sk-toggleable__control:checked~label.sk-toggleable__label {background-color: #d4ebff;}#sk-container-id-2 input.sk-hidden--visually {border: 0;clip: rect(1px 1px 1px 1px);clip: rect(1px, 1px, 1px, 1px);height: 1px;margin: -1px;overflow: hidden;padding: 0;position: absolute;width: 1px;}#sk-container-id-2 div.sk-estimator {font-family: monospace;background-color: #f0f8ff;border: 1px dotted black;border-radius: 0.25em;box-sizing: border-box;margin-bottom: 0.5em;}#sk-container-id-2 div.sk-estimator:hover {background-color: #d4ebff;}#sk-container-id-2 div.sk-parallel-item::after {content: \"\";width: 100%;border-bottom: 1px solid gray;flex-grow: 1;}#sk-container-id-2 div.sk-label:hover label.sk-toggleable__label {background-color: #d4ebff;}#sk-container-id-2 div.sk-serial::before {content: \"\";position: absolute;border-left: 1px solid gray;box-sizing: border-box;top: 0;bottom: 0;left: 50%;z-index: 0;}#sk-container-id-2 div.sk-serial {display: flex;flex-direction: column;align-items: center;background-color: white;padding-right: 0.2em;padding-left: 0.2em;position: relative;}#sk-container-id-2 div.sk-item {position: relative;z-index: 1;}#sk-container-id-2 div.sk-parallel {display: flex;align-items: stretch;justify-content: center;background-color: white;position: relative;}#sk-container-id-2 div.sk-item::before, #sk-container-id-2 div.sk-parallel-item::before {content: \"\";position: absolute;border-left: 1px solid gray;box-sizing: border-box;top: 0;bottom: 0;left: 50%;z-index: -1;}#sk-container-id-2 div.sk-parallel-item {display: flex;flex-direction: column;z-index: 1;position: relative;background-color: white;}#sk-container-id-2 div.sk-parallel-item:first-child::after {align-self: flex-end;width: 50%;}#sk-container-id-2 div.sk-parallel-item:last-child::after {align-self: flex-start;width: 50%;}#sk-container-id-2 div.sk-parallel-item:only-child::after {width: 0;}#sk-container-id-2 div.sk-dashed-wrapped {border: 1px dashed gray;margin: 0 0.4em 0.5em 0.4em;box-sizing: border-box;padding-bottom: 0.4em;background-color: white;}#sk-container-id-2 div.sk-label label {font-family: monospace;font-weight: bold;display: inline-block;line-height: 1.2em;}#sk-container-id-2 div.sk-label-container {text-align: center;}#sk-container-id-2 div.sk-container {/* jupyter's `normalize.less` sets `[hidden] { display: none; }` but bootstrap.min.css set `[hidden] { display: none !important; }` so we also need the `!important` here to be able to override the default hidden behavior on the sphinx rendered scikit-learn.org. See: https://github.com/scikit-learn/scikit-learn/issues/21755 */display: inline-block !important;position: relative;}#sk-container-id-2 div.sk-text-repr-fallback {display: none;}</style><div id=\"sk-container-id-2\" class=\"sk-top-container\"><div class=\"sk-text-repr-fallback\"><pre>Pipeline(steps=[(&#x27;processor&#x27;,\n",
       "                 ColumnTransformer(transformers=[(&#x27;pipe_num&#x27;, MinMaxScaler(),\n",
       "                                                  [&#x27;v2&#x27;, &#x27;v4&#x27;, &#x27;v5&#x27;, &#x27;v6&#x27;, &#x27;v7&#x27;,\n",
       "                                                   &#x27;v8&#x27;])])),\n",
       "                (&#x27;lr&#x27;, LinearRegression())])</pre><b>In a Jupyter environment, please rerun this cell to show the HTML representation or trust the notebook. <br />On GitHub, the HTML representation is unable to render, please try loading this page with nbviewer.org.</b></div><div class=\"sk-container\" hidden><div class=\"sk-item sk-dashed-wrapped\"><div class=\"sk-label-container\"><div class=\"sk-label sk-toggleable\"><input class=\"sk-toggleable__control sk-hidden--visually\" id=\"sk-estimator-id-4\" type=\"checkbox\" ><label for=\"sk-estimator-id-4\" class=\"sk-toggleable__label sk-toggleable__label-arrow\">Pipeline</label><div class=\"sk-toggleable__content\"><pre>Pipeline(steps=[(&#x27;processor&#x27;,\n",
       "                 ColumnTransformer(transformers=[(&#x27;pipe_num&#x27;, MinMaxScaler(),\n",
       "                                                  [&#x27;v2&#x27;, &#x27;v4&#x27;, &#x27;v5&#x27;, &#x27;v6&#x27;, &#x27;v7&#x27;,\n",
       "                                                   &#x27;v8&#x27;])])),\n",
       "                (&#x27;lr&#x27;, LinearRegression())])</pre></div></div></div><div class=\"sk-serial\"><div class=\"sk-item sk-dashed-wrapped\"><div class=\"sk-label-container\"><div class=\"sk-label sk-toggleable\"><input class=\"sk-toggleable__control sk-hidden--visually\" id=\"sk-estimator-id-5\" type=\"checkbox\" ><label for=\"sk-estimator-id-5\" class=\"sk-toggleable__label sk-toggleable__label-arrow\">processor: ColumnTransformer</label><div class=\"sk-toggleable__content\"><pre>ColumnTransformer(transformers=[(&#x27;pipe_num&#x27;, MinMaxScaler(),\n",
       "                                 [&#x27;v2&#x27;, &#x27;v4&#x27;, &#x27;v5&#x27;, &#x27;v6&#x27;, &#x27;v7&#x27;, &#x27;v8&#x27;])])</pre></div></div></div><div class=\"sk-parallel\"><div class=\"sk-parallel-item\"><div class=\"sk-item\"><div class=\"sk-label-container\"><div class=\"sk-label sk-toggleable\"><input class=\"sk-toggleable__control sk-hidden--visually\" id=\"sk-estimator-id-6\" type=\"checkbox\" ><label for=\"sk-estimator-id-6\" class=\"sk-toggleable__label sk-toggleable__label-arrow\">pipe_num</label><div class=\"sk-toggleable__content\"><pre>[&#x27;v2&#x27;, &#x27;v4&#x27;, &#x27;v5&#x27;, &#x27;v6&#x27;, &#x27;v7&#x27;, &#x27;v8&#x27;]</pre></div></div></div><div class=\"sk-serial\"><div class=\"sk-item\"><div class=\"sk-estimator sk-toggleable\"><input class=\"sk-toggleable__control sk-hidden--visually\" id=\"sk-estimator-id-7\" type=\"checkbox\" ><label for=\"sk-estimator-id-7\" class=\"sk-toggleable__label sk-toggleable__label-arrow\">MinMaxScaler</label><div class=\"sk-toggleable__content\"><pre>MinMaxScaler()</pre></div></div></div></div></div></div></div></div><div class=\"sk-item\"><div class=\"sk-estimator sk-toggleable\"><input class=\"sk-toggleable__control sk-hidden--visually\" id=\"sk-estimator-id-8\" type=\"checkbox\" ><label for=\"sk-estimator-id-8\" class=\"sk-toggleable__label sk-toggleable__label-arrow\">LinearRegression</label><div class=\"sk-toggleable__content\"><pre>LinearRegression()</pre></div></div></div></div></div></div></div>"
      ],
      "text/plain": [
       "Pipeline(steps=[('processor',\n",
       "                 ColumnTransformer(transformers=[('pipe_num', MinMaxScaler(),\n",
       "                                                  ['v2', 'v4', 'v5', 'v6', 'v7',\n",
       "                                                   'v8'])])),\n",
       "                ('lr', LinearRegression())])"
      ]
     },
     "execution_count": 26,
     "metadata": {},
     "output_type": "execute_result"
    }
   ],
   "source": [
    "# fit model\n",
    "pipeline_lr.fit(X_train,y_train)\n"
   ]
  },
  {
   "attachments": {},
   "cell_type": "markdown",
   "metadata": {},
   "source": [
    "## B. SVM"
   ]
  },
  {
   "cell_type": "code",
   "execution_count": 27,
   "metadata": {},
   "outputs": [
    {
     "data": {
      "text/html": [
       "<style>#sk-container-id-3 {color: black;background-color: white;}#sk-container-id-3 pre{padding: 0;}#sk-container-id-3 div.sk-toggleable {background-color: white;}#sk-container-id-3 label.sk-toggleable__label {cursor: pointer;display: block;width: 100%;margin-bottom: 0;padding: 0.3em;box-sizing: border-box;text-align: center;}#sk-container-id-3 label.sk-toggleable__label-arrow:before {content: \"▸\";float: left;margin-right: 0.25em;color: #696969;}#sk-container-id-3 label.sk-toggleable__label-arrow:hover:before {color: black;}#sk-container-id-3 div.sk-estimator:hover label.sk-toggleable__label-arrow:before {color: black;}#sk-container-id-3 div.sk-toggleable__content {max-height: 0;max-width: 0;overflow: hidden;text-align: left;background-color: #f0f8ff;}#sk-container-id-3 div.sk-toggleable__content pre {margin: 0.2em;color: black;border-radius: 0.25em;background-color: #f0f8ff;}#sk-container-id-3 input.sk-toggleable__control:checked~div.sk-toggleable__content {max-height: 200px;max-width: 100%;overflow: auto;}#sk-container-id-3 input.sk-toggleable__control:checked~label.sk-toggleable__label-arrow:before {content: \"▾\";}#sk-container-id-3 div.sk-estimator input.sk-toggleable__control:checked~label.sk-toggleable__label {background-color: #d4ebff;}#sk-container-id-3 div.sk-label input.sk-toggleable__control:checked~label.sk-toggleable__label {background-color: #d4ebff;}#sk-container-id-3 input.sk-hidden--visually {border: 0;clip: rect(1px 1px 1px 1px);clip: rect(1px, 1px, 1px, 1px);height: 1px;margin: -1px;overflow: hidden;padding: 0;position: absolute;width: 1px;}#sk-container-id-3 div.sk-estimator {font-family: monospace;background-color: #f0f8ff;border: 1px dotted black;border-radius: 0.25em;box-sizing: border-box;margin-bottom: 0.5em;}#sk-container-id-3 div.sk-estimator:hover {background-color: #d4ebff;}#sk-container-id-3 div.sk-parallel-item::after {content: \"\";width: 100%;border-bottom: 1px solid gray;flex-grow: 1;}#sk-container-id-3 div.sk-label:hover label.sk-toggleable__label {background-color: #d4ebff;}#sk-container-id-3 div.sk-serial::before {content: \"\";position: absolute;border-left: 1px solid gray;box-sizing: border-box;top: 0;bottom: 0;left: 50%;z-index: 0;}#sk-container-id-3 div.sk-serial {display: flex;flex-direction: column;align-items: center;background-color: white;padding-right: 0.2em;padding-left: 0.2em;position: relative;}#sk-container-id-3 div.sk-item {position: relative;z-index: 1;}#sk-container-id-3 div.sk-parallel {display: flex;align-items: stretch;justify-content: center;background-color: white;position: relative;}#sk-container-id-3 div.sk-item::before, #sk-container-id-3 div.sk-parallel-item::before {content: \"\";position: absolute;border-left: 1px solid gray;box-sizing: border-box;top: 0;bottom: 0;left: 50%;z-index: -1;}#sk-container-id-3 div.sk-parallel-item {display: flex;flex-direction: column;z-index: 1;position: relative;background-color: white;}#sk-container-id-3 div.sk-parallel-item:first-child::after {align-self: flex-end;width: 50%;}#sk-container-id-3 div.sk-parallel-item:last-child::after {align-self: flex-start;width: 50%;}#sk-container-id-3 div.sk-parallel-item:only-child::after {width: 0;}#sk-container-id-3 div.sk-dashed-wrapped {border: 1px dashed gray;margin: 0 0.4em 0.5em 0.4em;box-sizing: border-box;padding-bottom: 0.4em;background-color: white;}#sk-container-id-3 div.sk-label label {font-family: monospace;font-weight: bold;display: inline-block;line-height: 1.2em;}#sk-container-id-3 div.sk-label-container {text-align: center;}#sk-container-id-3 div.sk-container {/* jupyter's `normalize.less` sets `[hidden] { display: none; }` but bootstrap.min.css set `[hidden] { display: none !important; }` so we also need the `!important` here to be able to override the default hidden behavior on the sphinx rendered scikit-learn.org. See: https://github.com/scikit-learn/scikit-learn/issues/21755 */display: inline-block !important;position: relative;}#sk-container-id-3 div.sk-text-repr-fallback {display: none;}</style><div id=\"sk-container-id-3\" class=\"sk-top-container\"><div class=\"sk-text-repr-fallback\"><pre>Pipeline(steps=[(&#x27;processor&#x27;,\n",
       "                 ColumnTransformer(transformers=[(&#x27;pipe_num&#x27;, MinMaxScaler(),\n",
       "                                                  [&#x27;v2&#x27;, &#x27;v4&#x27;, &#x27;v5&#x27;, &#x27;v6&#x27;, &#x27;v7&#x27;,\n",
       "                                                   &#x27;v8&#x27;])])),\n",
       "                (&#x27;svm&#x27;, SVR())])</pre><b>In a Jupyter environment, please rerun this cell to show the HTML representation or trust the notebook. <br />On GitHub, the HTML representation is unable to render, please try loading this page with nbviewer.org.</b></div><div class=\"sk-container\" hidden><div class=\"sk-item sk-dashed-wrapped\"><div class=\"sk-label-container\"><div class=\"sk-label sk-toggleable\"><input class=\"sk-toggleable__control sk-hidden--visually\" id=\"sk-estimator-id-9\" type=\"checkbox\" ><label for=\"sk-estimator-id-9\" class=\"sk-toggleable__label sk-toggleable__label-arrow\">Pipeline</label><div class=\"sk-toggleable__content\"><pre>Pipeline(steps=[(&#x27;processor&#x27;,\n",
       "                 ColumnTransformer(transformers=[(&#x27;pipe_num&#x27;, MinMaxScaler(),\n",
       "                                                  [&#x27;v2&#x27;, &#x27;v4&#x27;, &#x27;v5&#x27;, &#x27;v6&#x27;, &#x27;v7&#x27;,\n",
       "                                                   &#x27;v8&#x27;])])),\n",
       "                (&#x27;svm&#x27;, SVR())])</pre></div></div></div><div class=\"sk-serial\"><div class=\"sk-item sk-dashed-wrapped\"><div class=\"sk-label-container\"><div class=\"sk-label sk-toggleable\"><input class=\"sk-toggleable__control sk-hidden--visually\" id=\"sk-estimator-id-10\" type=\"checkbox\" ><label for=\"sk-estimator-id-10\" class=\"sk-toggleable__label sk-toggleable__label-arrow\">processor: ColumnTransformer</label><div class=\"sk-toggleable__content\"><pre>ColumnTransformer(transformers=[(&#x27;pipe_num&#x27;, MinMaxScaler(),\n",
       "                                 [&#x27;v2&#x27;, &#x27;v4&#x27;, &#x27;v5&#x27;, &#x27;v6&#x27;, &#x27;v7&#x27;, &#x27;v8&#x27;])])</pre></div></div></div><div class=\"sk-parallel\"><div class=\"sk-parallel-item\"><div class=\"sk-item\"><div class=\"sk-label-container\"><div class=\"sk-label sk-toggleable\"><input class=\"sk-toggleable__control sk-hidden--visually\" id=\"sk-estimator-id-11\" type=\"checkbox\" ><label for=\"sk-estimator-id-11\" class=\"sk-toggleable__label sk-toggleable__label-arrow\">pipe_num</label><div class=\"sk-toggleable__content\"><pre>[&#x27;v2&#x27;, &#x27;v4&#x27;, &#x27;v5&#x27;, &#x27;v6&#x27;, &#x27;v7&#x27;, &#x27;v8&#x27;]</pre></div></div></div><div class=\"sk-serial\"><div class=\"sk-item\"><div class=\"sk-estimator sk-toggleable\"><input class=\"sk-toggleable__control sk-hidden--visually\" id=\"sk-estimator-id-12\" type=\"checkbox\" ><label for=\"sk-estimator-id-12\" class=\"sk-toggleable__label sk-toggleable__label-arrow\">MinMaxScaler</label><div class=\"sk-toggleable__content\"><pre>MinMaxScaler()</pre></div></div></div></div></div></div></div></div><div class=\"sk-item\"><div class=\"sk-estimator sk-toggleable\"><input class=\"sk-toggleable__control sk-hidden--visually\" id=\"sk-estimator-id-13\" type=\"checkbox\" ><label for=\"sk-estimator-id-13\" class=\"sk-toggleable__label sk-toggleable__label-arrow\">SVR</label><div class=\"sk-toggleable__content\"><pre>SVR()</pre></div></div></div></div></div></div></div>"
      ],
      "text/plain": [
       "Pipeline(steps=[('processor',\n",
       "                 ColumnTransformer(transformers=[('pipe_num', MinMaxScaler(),\n",
       "                                                  ['v2', 'v4', 'v5', 'v6', 'v7',\n",
       "                                                   'v8'])])),\n",
       "                ('svm', SVR())])"
      ]
     },
     "execution_count": 27,
     "metadata": {},
     "output_type": "execute_result"
    }
   ],
   "source": [
    "# fit model\n",
    "pipeline_svm.fit(X_train,y_train)\n"
   ]
  },
  {
   "attachments": {},
   "cell_type": "markdown",
   "metadata": {},
   "source": [
    "## C. Random Forest"
   ]
  },
  {
   "cell_type": "code",
   "execution_count": 28,
   "metadata": {},
   "outputs": [
    {
     "data": {
      "text/html": [
       "<style>#sk-container-id-4 {color: black;background-color: white;}#sk-container-id-4 pre{padding: 0;}#sk-container-id-4 div.sk-toggleable {background-color: white;}#sk-container-id-4 label.sk-toggleable__label {cursor: pointer;display: block;width: 100%;margin-bottom: 0;padding: 0.3em;box-sizing: border-box;text-align: center;}#sk-container-id-4 label.sk-toggleable__label-arrow:before {content: \"▸\";float: left;margin-right: 0.25em;color: #696969;}#sk-container-id-4 label.sk-toggleable__label-arrow:hover:before {color: black;}#sk-container-id-4 div.sk-estimator:hover label.sk-toggleable__label-arrow:before {color: black;}#sk-container-id-4 div.sk-toggleable__content {max-height: 0;max-width: 0;overflow: hidden;text-align: left;background-color: #f0f8ff;}#sk-container-id-4 div.sk-toggleable__content pre {margin: 0.2em;color: black;border-radius: 0.25em;background-color: #f0f8ff;}#sk-container-id-4 input.sk-toggleable__control:checked~div.sk-toggleable__content {max-height: 200px;max-width: 100%;overflow: auto;}#sk-container-id-4 input.sk-toggleable__control:checked~label.sk-toggleable__label-arrow:before {content: \"▾\";}#sk-container-id-4 div.sk-estimator input.sk-toggleable__control:checked~label.sk-toggleable__label {background-color: #d4ebff;}#sk-container-id-4 div.sk-label input.sk-toggleable__control:checked~label.sk-toggleable__label {background-color: #d4ebff;}#sk-container-id-4 input.sk-hidden--visually {border: 0;clip: rect(1px 1px 1px 1px);clip: rect(1px, 1px, 1px, 1px);height: 1px;margin: -1px;overflow: hidden;padding: 0;position: absolute;width: 1px;}#sk-container-id-4 div.sk-estimator {font-family: monospace;background-color: #f0f8ff;border: 1px dotted black;border-radius: 0.25em;box-sizing: border-box;margin-bottom: 0.5em;}#sk-container-id-4 div.sk-estimator:hover {background-color: #d4ebff;}#sk-container-id-4 div.sk-parallel-item::after {content: \"\";width: 100%;border-bottom: 1px solid gray;flex-grow: 1;}#sk-container-id-4 div.sk-label:hover label.sk-toggleable__label {background-color: #d4ebff;}#sk-container-id-4 div.sk-serial::before {content: \"\";position: absolute;border-left: 1px solid gray;box-sizing: border-box;top: 0;bottom: 0;left: 50%;z-index: 0;}#sk-container-id-4 div.sk-serial {display: flex;flex-direction: column;align-items: center;background-color: white;padding-right: 0.2em;padding-left: 0.2em;position: relative;}#sk-container-id-4 div.sk-item {position: relative;z-index: 1;}#sk-container-id-4 div.sk-parallel {display: flex;align-items: stretch;justify-content: center;background-color: white;position: relative;}#sk-container-id-4 div.sk-item::before, #sk-container-id-4 div.sk-parallel-item::before {content: \"\";position: absolute;border-left: 1px solid gray;box-sizing: border-box;top: 0;bottom: 0;left: 50%;z-index: -1;}#sk-container-id-4 div.sk-parallel-item {display: flex;flex-direction: column;z-index: 1;position: relative;background-color: white;}#sk-container-id-4 div.sk-parallel-item:first-child::after {align-self: flex-end;width: 50%;}#sk-container-id-4 div.sk-parallel-item:last-child::after {align-self: flex-start;width: 50%;}#sk-container-id-4 div.sk-parallel-item:only-child::after {width: 0;}#sk-container-id-4 div.sk-dashed-wrapped {border: 1px dashed gray;margin: 0 0.4em 0.5em 0.4em;box-sizing: border-box;padding-bottom: 0.4em;background-color: white;}#sk-container-id-4 div.sk-label label {font-family: monospace;font-weight: bold;display: inline-block;line-height: 1.2em;}#sk-container-id-4 div.sk-label-container {text-align: center;}#sk-container-id-4 div.sk-container {/* jupyter's `normalize.less` sets `[hidden] { display: none; }` but bootstrap.min.css set `[hidden] { display: none !important; }` so we also need the `!important` here to be able to override the default hidden behavior on the sphinx rendered scikit-learn.org. See: https://github.com/scikit-learn/scikit-learn/issues/21755 */display: inline-block !important;position: relative;}#sk-container-id-4 div.sk-text-repr-fallback {display: none;}</style><div id=\"sk-container-id-4\" class=\"sk-top-container\"><div class=\"sk-text-repr-fallback\"><pre>Pipeline(steps=[(&#x27;processor&#x27;,\n",
       "                 ColumnTransformer(transformers=[(&#x27;pipe_num&#x27;, MinMaxScaler(),\n",
       "                                                  [&#x27;v2&#x27;, &#x27;v4&#x27;, &#x27;v5&#x27;, &#x27;v6&#x27;, &#x27;v7&#x27;,\n",
       "                                                   &#x27;v8&#x27;])])),\n",
       "                (&#x27;rf&#x27;, RandomForestRegressor(random_state=77))])</pre><b>In a Jupyter environment, please rerun this cell to show the HTML representation or trust the notebook. <br />On GitHub, the HTML representation is unable to render, please try loading this page with nbviewer.org.</b></div><div class=\"sk-container\" hidden><div class=\"sk-item sk-dashed-wrapped\"><div class=\"sk-label-container\"><div class=\"sk-label sk-toggleable\"><input class=\"sk-toggleable__control sk-hidden--visually\" id=\"sk-estimator-id-14\" type=\"checkbox\" ><label for=\"sk-estimator-id-14\" class=\"sk-toggleable__label sk-toggleable__label-arrow\">Pipeline</label><div class=\"sk-toggleable__content\"><pre>Pipeline(steps=[(&#x27;processor&#x27;,\n",
       "                 ColumnTransformer(transformers=[(&#x27;pipe_num&#x27;, MinMaxScaler(),\n",
       "                                                  [&#x27;v2&#x27;, &#x27;v4&#x27;, &#x27;v5&#x27;, &#x27;v6&#x27;, &#x27;v7&#x27;,\n",
       "                                                   &#x27;v8&#x27;])])),\n",
       "                (&#x27;rf&#x27;, RandomForestRegressor(random_state=77))])</pre></div></div></div><div class=\"sk-serial\"><div class=\"sk-item sk-dashed-wrapped\"><div class=\"sk-label-container\"><div class=\"sk-label sk-toggleable\"><input class=\"sk-toggleable__control sk-hidden--visually\" id=\"sk-estimator-id-15\" type=\"checkbox\" ><label for=\"sk-estimator-id-15\" class=\"sk-toggleable__label sk-toggleable__label-arrow\">processor: ColumnTransformer</label><div class=\"sk-toggleable__content\"><pre>ColumnTransformer(transformers=[(&#x27;pipe_num&#x27;, MinMaxScaler(),\n",
       "                                 [&#x27;v2&#x27;, &#x27;v4&#x27;, &#x27;v5&#x27;, &#x27;v6&#x27;, &#x27;v7&#x27;, &#x27;v8&#x27;])])</pre></div></div></div><div class=\"sk-parallel\"><div class=\"sk-parallel-item\"><div class=\"sk-item\"><div class=\"sk-label-container\"><div class=\"sk-label sk-toggleable\"><input class=\"sk-toggleable__control sk-hidden--visually\" id=\"sk-estimator-id-16\" type=\"checkbox\" ><label for=\"sk-estimator-id-16\" class=\"sk-toggleable__label sk-toggleable__label-arrow\">pipe_num</label><div class=\"sk-toggleable__content\"><pre>[&#x27;v2&#x27;, &#x27;v4&#x27;, &#x27;v5&#x27;, &#x27;v6&#x27;, &#x27;v7&#x27;, &#x27;v8&#x27;]</pre></div></div></div><div class=\"sk-serial\"><div class=\"sk-item\"><div class=\"sk-estimator sk-toggleable\"><input class=\"sk-toggleable__control sk-hidden--visually\" id=\"sk-estimator-id-17\" type=\"checkbox\" ><label for=\"sk-estimator-id-17\" class=\"sk-toggleable__label sk-toggleable__label-arrow\">MinMaxScaler</label><div class=\"sk-toggleable__content\"><pre>MinMaxScaler()</pre></div></div></div></div></div></div></div></div><div class=\"sk-item\"><div class=\"sk-estimator sk-toggleable\"><input class=\"sk-toggleable__control sk-hidden--visually\" id=\"sk-estimator-id-18\" type=\"checkbox\" ><label for=\"sk-estimator-id-18\" class=\"sk-toggleable__label sk-toggleable__label-arrow\">RandomForestRegressor</label><div class=\"sk-toggleable__content\"><pre>RandomForestRegressor(random_state=77)</pre></div></div></div></div></div></div></div>"
      ],
      "text/plain": [
       "Pipeline(steps=[('processor',\n",
       "                 ColumnTransformer(transformers=[('pipe_num', MinMaxScaler(),\n",
       "                                                  ['v2', 'v4', 'v5', 'v6', 'v7',\n",
       "                                                   'v8'])])),\n",
       "                ('rf', RandomForestRegressor(random_state=77))])"
      ]
     },
     "execution_count": 28,
     "metadata": {},
     "output_type": "execute_result"
    }
   ],
   "source": [
    "# fit model\n",
    "pipeline_rf.fit(X_train,y_train)\n"
   ]
  },
  {
   "attachments": {},
   "cell_type": "markdown",
   "metadata": {},
   "source": [
    "## D. Gradient Boosting"
   ]
  },
  {
   "cell_type": "code",
   "execution_count": 29,
   "metadata": {},
   "outputs": [
    {
     "data": {
      "text/html": [
       "<style>#sk-container-id-5 {color: black;background-color: white;}#sk-container-id-5 pre{padding: 0;}#sk-container-id-5 div.sk-toggleable {background-color: white;}#sk-container-id-5 label.sk-toggleable__label {cursor: pointer;display: block;width: 100%;margin-bottom: 0;padding: 0.3em;box-sizing: border-box;text-align: center;}#sk-container-id-5 label.sk-toggleable__label-arrow:before {content: \"▸\";float: left;margin-right: 0.25em;color: #696969;}#sk-container-id-5 label.sk-toggleable__label-arrow:hover:before {color: black;}#sk-container-id-5 div.sk-estimator:hover label.sk-toggleable__label-arrow:before {color: black;}#sk-container-id-5 div.sk-toggleable__content {max-height: 0;max-width: 0;overflow: hidden;text-align: left;background-color: #f0f8ff;}#sk-container-id-5 div.sk-toggleable__content pre {margin: 0.2em;color: black;border-radius: 0.25em;background-color: #f0f8ff;}#sk-container-id-5 input.sk-toggleable__control:checked~div.sk-toggleable__content {max-height: 200px;max-width: 100%;overflow: auto;}#sk-container-id-5 input.sk-toggleable__control:checked~label.sk-toggleable__label-arrow:before {content: \"▾\";}#sk-container-id-5 div.sk-estimator input.sk-toggleable__control:checked~label.sk-toggleable__label {background-color: #d4ebff;}#sk-container-id-5 div.sk-label input.sk-toggleable__control:checked~label.sk-toggleable__label {background-color: #d4ebff;}#sk-container-id-5 input.sk-hidden--visually {border: 0;clip: rect(1px 1px 1px 1px);clip: rect(1px, 1px, 1px, 1px);height: 1px;margin: -1px;overflow: hidden;padding: 0;position: absolute;width: 1px;}#sk-container-id-5 div.sk-estimator {font-family: monospace;background-color: #f0f8ff;border: 1px dotted black;border-radius: 0.25em;box-sizing: border-box;margin-bottom: 0.5em;}#sk-container-id-5 div.sk-estimator:hover {background-color: #d4ebff;}#sk-container-id-5 div.sk-parallel-item::after {content: \"\";width: 100%;border-bottom: 1px solid gray;flex-grow: 1;}#sk-container-id-5 div.sk-label:hover label.sk-toggleable__label {background-color: #d4ebff;}#sk-container-id-5 div.sk-serial::before {content: \"\";position: absolute;border-left: 1px solid gray;box-sizing: border-box;top: 0;bottom: 0;left: 50%;z-index: 0;}#sk-container-id-5 div.sk-serial {display: flex;flex-direction: column;align-items: center;background-color: white;padding-right: 0.2em;padding-left: 0.2em;position: relative;}#sk-container-id-5 div.sk-item {position: relative;z-index: 1;}#sk-container-id-5 div.sk-parallel {display: flex;align-items: stretch;justify-content: center;background-color: white;position: relative;}#sk-container-id-5 div.sk-item::before, #sk-container-id-5 div.sk-parallel-item::before {content: \"\";position: absolute;border-left: 1px solid gray;box-sizing: border-box;top: 0;bottom: 0;left: 50%;z-index: -1;}#sk-container-id-5 div.sk-parallel-item {display: flex;flex-direction: column;z-index: 1;position: relative;background-color: white;}#sk-container-id-5 div.sk-parallel-item:first-child::after {align-self: flex-end;width: 50%;}#sk-container-id-5 div.sk-parallel-item:last-child::after {align-self: flex-start;width: 50%;}#sk-container-id-5 div.sk-parallel-item:only-child::after {width: 0;}#sk-container-id-5 div.sk-dashed-wrapped {border: 1px dashed gray;margin: 0 0.4em 0.5em 0.4em;box-sizing: border-box;padding-bottom: 0.4em;background-color: white;}#sk-container-id-5 div.sk-label label {font-family: monospace;font-weight: bold;display: inline-block;line-height: 1.2em;}#sk-container-id-5 div.sk-label-container {text-align: center;}#sk-container-id-5 div.sk-container {/* jupyter's `normalize.less` sets `[hidden] { display: none; }` but bootstrap.min.css set `[hidden] { display: none !important; }` so we also need the `!important` here to be able to override the default hidden behavior on the sphinx rendered scikit-learn.org. See: https://github.com/scikit-learn/scikit-learn/issues/21755 */display: inline-block !important;position: relative;}#sk-container-id-5 div.sk-text-repr-fallback {display: none;}</style><div id=\"sk-container-id-5\" class=\"sk-top-container\"><div class=\"sk-text-repr-fallback\"><pre>Pipeline(steps=[(&#x27;processor&#x27;,\n",
       "                 ColumnTransformer(transformers=[(&#x27;pipe_num&#x27;, MinMaxScaler(),\n",
       "                                                  [&#x27;v2&#x27;, &#x27;v4&#x27;, &#x27;v5&#x27;, &#x27;v6&#x27;, &#x27;v7&#x27;,\n",
       "                                                   &#x27;v8&#x27;])])),\n",
       "                (&#x27;gb&#x27;, GradientBoostingRegressor())])</pre><b>In a Jupyter environment, please rerun this cell to show the HTML representation or trust the notebook. <br />On GitHub, the HTML representation is unable to render, please try loading this page with nbviewer.org.</b></div><div class=\"sk-container\" hidden><div class=\"sk-item sk-dashed-wrapped\"><div class=\"sk-label-container\"><div class=\"sk-label sk-toggleable\"><input class=\"sk-toggleable__control sk-hidden--visually\" id=\"sk-estimator-id-19\" type=\"checkbox\" ><label for=\"sk-estimator-id-19\" class=\"sk-toggleable__label sk-toggleable__label-arrow\">Pipeline</label><div class=\"sk-toggleable__content\"><pre>Pipeline(steps=[(&#x27;processor&#x27;,\n",
       "                 ColumnTransformer(transformers=[(&#x27;pipe_num&#x27;, MinMaxScaler(),\n",
       "                                                  [&#x27;v2&#x27;, &#x27;v4&#x27;, &#x27;v5&#x27;, &#x27;v6&#x27;, &#x27;v7&#x27;,\n",
       "                                                   &#x27;v8&#x27;])])),\n",
       "                (&#x27;gb&#x27;, GradientBoostingRegressor())])</pre></div></div></div><div class=\"sk-serial\"><div class=\"sk-item sk-dashed-wrapped\"><div class=\"sk-label-container\"><div class=\"sk-label sk-toggleable\"><input class=\"sk-toggleable__control sk-hidden--visually\" id=\"sk-estimator-id-20\" type=\"checkbox\" ><label for=\"sk-estimator-id-20\" class=\"sk-toggleable__label sk-toggleable__label-arrow\">processor: ColumnTransformer</label><div class=\"sk-toggleable__content\"><pre>ColumnTransformer(transformers=[(&#x27;pipe_num&#x27;, MinMaxScaler(),\n",
       "                                 [&#x27;v2&#x27;, &#x27;v4&#x27;, &#x27;v5&#x27;, &#x27;v6&#x27;, &#x27;v7&#x27;, &#x27;v8&#x27;])])</pre></div></div></div><div class=\"sk-parallel\"><div class=\"sk-parallel-item\"><div class=\"sk-item\"><div class=\"sk-label-container\"><div class=\"sk-label sk-toggleable\"><input class=\"sk-toggleable__control sk-hidden--visually\" id=\"sk-estimator-id-21\" type=\"checkbox\" ><label for=\"sk-estimator-id-21\" class=\"sk-toggleable__label sk-toggleable__label-arrow\">pipe_num</label><div class=\"sk-toggleable__content\"><pre>[&#x27;v2&#x27;, &#x27;v4&#x27;, &#x27;v5&#x27;, &#x27;v6&#x27;, &#x27;v7&#x27;, &#x27;v8&#x27;]</pre></div></div></div><div class=\"sk-serial\"><div class=\"sk-item\"><div class=\"sk-estimator sk-toggleable\"><input class=\"sk-toggleable__control sk-hidden--visually\" id=\"sk-estimator-id-22\" type=\"checkbox\" ><label for=\"sk-estimator-id-22\" class=\"sk-toggleable__label sk-toggleable__label-arrow\">MinMaxScaler</label><div class=\"sk-toggleable__content\"><pre>MinMaxScaler()</pre></div></div></div></div></div></div></div></div><div class=\"sk-item\"><div class=\"sk-estimator sk-toggleable\"><input class=\"sk-toggleable__control sk-hidden--visually\" id=\"sk-estimator-id-23\" type=\"checkbox\" ><label for=\"sk-estimator-id-23\" class=\"sk-toggleable__label sk-toggleable__label-arrow\">GradientBoostingRegressor</label><div class=\"sk-toggleable__content\"><pre>GradientBoostingRegressor()</pre></div></div></div></div></div></div></div>"
      ],
      "text/plain": [
       "Pipeline(steps=[('processor',\n",
       "                 ColumnTransformer(transformers=[('pipe_num', MinMaxScaler(),\n",
       "                                                  ['v2', 'v4', 'v5', 'v6', 'v7',\n",
       "                                                   'v8'])])),\n",
       "                ('gb', GradientBoostingRegressor())])"
      ]
     },
     "execution_count": 29,
     "metadata": {},
     "output_type": "execute_result"
    }
   ],
   "source": [
    "# fit model\n",
    "pipeline_gb.fit(X_train,y_train)\n"
   ]
  },
  {
   "attachments": {},
   "cell_type": "markdown",
   "metadata": {},
   "source": [
    "## E. K-Neirest Neighbors"
   ]
  },
  {
   "cell_type": "code",
   "execution_count": 30,
   "metadata": {},
   "outputs": [
    {
     "data": {
      "text/html": [
       "<style>#sk-container-id-6 {color: black;background-color: white;}#sk-container-id-6 pre{padding: 0;}#sk-container-id-6 div.sk-toggleable {background-color: white;}#sk-container-id-6 label.sk-toggleable__label {cursor: pointer;display: block;width: 100%;margin-bottom: 0;padding: 0.3em;box-sizing: border-box;text-align: center;}#sk-container-id-6 label.sk-toggleable__label-arrow:before {content: \"▸\";float: left;margin-right: 0.25em;color: #696969;}#sk-container-id-6 label.sk-toggleable__label-arrow:hover:before {color: black;}#sk-container-id-6 div.sk-estimator:hover label.sk-toggleable__label-arrow:before {color: black;}#sk-container-id-6 div.sk-toggleable__content {max-height: 0;max-width: 0;overflow: hidden;text-align: left;background-color: #f0f8ff;}#sk-container-id-6 div.sk-toggleable__content pre {margin: 0.2em;color: black;border-radius: 0.25em;background-color: #f0f8ff;}#sk-container-id-6 input.sk-toggleable__control:checked~div.sk-toggleable__content {max-height: 200px;max-width: 100%;overflow: auto;}#sk-container-id-6 input.sk-toggleable__control:checked~label.sk-toggleable__label-arrow:before {content: \"▾\";}#sk-container-id-6 div.sk-estimator input.sk-toggleable__control:checked~label.sk-toggleable__label {background-color: #d4ebff;}#sk-container-id-6 div.sk-label input.sk-toggleable__control:checked~label.sk-toggleable__label {background-color: #d4ebff;}#sk-container-id-6 input.sk-hidden--visually {border: 0;clip: rect(1px 1px 1px 1px);clip: rect(1px, 1px, 1px, 1px);height: 1px;margin: -1px;overflow: hidden;padding: 0;position: absolute;width: 1px;}#sk-container-id-6 div.sk-estimator {font-family: monospace;background-color: #f0f8ff;border: 1px dotted black;border-radius: 0.25em;box-sizing: border-box;margin-bottom: 0.5em;}#sk-container-id-6 div.sk-estimator:hover {background-color: #d4ebff;}#sk-container-id-6 div.sk-parallel-item::after {content: \"\";width: 100%;border-bottom: 1px solid gray;flex-grow: 1;}#sk-container-id-6 div.sk-label:hover label.sk-toggleable__label {background-color: #d4ebff;}#sk-container-id-6 div.sk-serial::before {content: \"\";position: absolute;border-left: 1px solid gray;box-sizing: border-box;top: 0;bottom: 0;left: 50%;z-index: 0;}#sk-container-id-6 div.sk-serial {display: flex;flex-direction: column;align-items: center;background-color: white;padding-right: 0.2em;padding-left: 0.2em;position: relative;}#sk-container-id-6 div.sk-item {position: relative;z-index: 1;}#sk-container-id-6 div.sk-parallel {display: flex;align-items: stretch;justify-content: center;background-color: white;position: relative;}#sk-container-id-6 div.sk-item::before, #sk-container-id-6 div.sk-parallel-item::before {content: \"\";position: absolute;border-left: 1px solid gray;box-sizing: border-box;top: 0;bottom: 0;left: 50%;z-index: -1;}#sk-container-id-6 div.sk-parallel-item {display: flex;flex-direction: column;z-index: 1;position: relative;background-color: white;}#sk-container-id-6 div.sk-parallel-item:first-child::after {align-self: flex-end;width: 50%;}#sk-container-id-6 div.sk-parallel-item:last-child::after {align-self: flex-start;width: 50%;}#sk-container-id-6 div.sk-parallel-item:only-child::after {width: 0;}#sk-container-id-6 div.sk-dashed-wrapped {border: 1px dashed gray;margin: 0 0.4em 0.5em 0.4em;box-sizing: border-box;padding-bottom: 0.4em;background-color: white;}#sk-container-id-6 div.sk-label label {font-family: monospace;font-weight: bold;display: inline-block;line-height: 1.2em;}#sk-container-id-6 div.sk-label-container {text-align: center;}#sk-container-id-6 div.sk-container {/* jupyter's `normalize.less` sets `[hidden] { display: none; }` but bootstrap.min.css set `[hidden] { display: none !important; }` so we also need the `!important` here to be able to override the default hidden behavior on the sphinx rendered scikit-learn.org. See: https://github.com/scikit-learn/scikit-learn/issues/21755 */display: inline-block !important;position: relative;}#sk-container-id-6 div.sk-text-repr-fallback {display: none;}</style><div id=\"sk-container-id-6\" class=\"sk-top-container\"><div class=\"sk-text-repr-fallback\"><pre>Pipeline(steps=[(&#x27;processor&#x27;,\n",
       "                 ColumnTransformer(transformers=[(&#x27;pipe_num&#x27;, MinMaxScaler(),\n",
       "                                                  [&#x27;v2&#x27;, &#x27;v4&#x27;, &#x27;v5&#x27;, &#x27;v6&#x27;, &#x27;v7&#x27;,\n",
       "                                                   &#x27;v8&#x27;])])),\n",
       "                (&#x27;knn&#x27;, KNeighborsRegressor())])</pre><b>In a Jupyter environment, please rerun this cell to show the HTML representation or trust the notebook. <br />On GitHub, the HTML representation is unable to render, please try loading this page with nbviewer.org.</b></div><div class=\"sk-container\" hidden><div class=\"sk-item sk-dashed-wrapped\"><div class=\"sk-label-container\"><div class=\"sk-label sk-toggleable\"><input class=\"sk-toggleable__control sk-hidden--visually\" id=\"sk-estimator-id-24\" type=\"checkbox\" ><label for=\"sk-estimator-id-24\" class=\"sk-toggleable__label sk-toggleable__label-arrow\">Pipeline</label><div class=\"sk-toggleable__content\"><pre>Pipeline(steps=[(&#x27;processor&#x27;,\n",
       "                 ColumnTransformer(transformers=[(&#x27;pipe_num&#x27;, MinMaxScaler(),\n",
       "                                                  [&#x27;v2&#x27;, &#x27;v4&#x27;, &#x27;v5&#x27;, &#x27;v6&#x27;, &#x27;v7&#x27;,\n",
       "                                                   &#x27;v8&#x27;])])),\n",
       "                (&#x27;knn&#x27;, KNeighborsRegressor())])</pre></div></div></div><div class=\"sk-serial\"><div class=\"sk-item sk-dashed-wrapped\"><div class=\"sk-label-container\"><div class=\"sk-label sk-toggleable\"><input class=\"sk-toggleable__control sk-hidden--visually\" id=\"sk-estimator-id-25\" type=\"checkbox\" ><label for=\"sk-estimator-id-25\" class=\"sk-toggleable__label sk-toggleable__label-arrow\">processor: ColumnTransformer</label><div class=\"sk-toggleable__content\"><pre>ColumnTransformer(transformers=[(&#x27;pipe_num&#x27;, MinMaxScaler(),\n",
       "                                 [&#x27;v2&#x27;, &#x27;v4&#x27;, &#x27;v5&#x27;, &#x27;v6&#x27;, &#x27;v7&#x27;, &#x27;v8&#x27;])])</pre></div></div></div><div class=\"sk-parallel\"><div class=\"sk-parallel-item\"><div class=\"sk-item\"><div class=\"sk-label-container\"><div class=\"sk-label sk-toggleable\"><input class=\"sk-toggleable__control sk-hidden--visually\" id=\"sk-estimator-id-26\" type=\"checkbox\" ><label for=\"sk-estimator-id-26\" class=\"sk-toggleable__label sk-toggleable__label-arrow\">pipe_num</label><div class=\"sk-toggleable__content\"><pre>[&#x27;v2&#x27;, &#x27;v4&#x27;, &#x27;v5&#x27;, &#x27;v6&#x27;, &#x27;v7&#x27;, &#x27;v8&#x27;]</pre></div></div></div><div class=\"sk-serial\"><div class=\"sk-item\"><div class=\"sk-estimator sk-toggleable\"><input class=\"sk-toggleable__control sk-hidden--visually\" id=\"sk-estimator-id-27\" type=\"checkbox\" ><label for=\"sk-estimator-id-27\" class=\"sk-toggleable__label sk-toggleable__label-arrow\">MinMaxScaler</label><div class=\"sk-toggleable__content\"><pre>MinMaxScaler()</pre></div></div></div></div></div></div></div></div><div class=\"sk-item\"><div class=\"sk-estimator sk-toggleable\"><input class=\"sk-toggleable__control sk-hidden--visually\" id=\"sk-estimator-id-28\" type=\"checkbox\" ><label for=\"sk-estimator-id-28\" class=\"sk-toggleable__label sk-toggleable__label-arrow\">KNeighborsRegressor</label><div class=\"sk-toggleable__content\"><pre>KNeighborsRegressor()</pre></div></div></div></div></div></div></div>"
      ],
      "text/plain": [
       "Pipeline(steps=[('processor',\n",
       "                 ColumnTransformer(transformers=[('pipe_num', MinMaxScaler(),\n",
       "                                                  ['v2', 'v4', 'v5', 'v6', 'v7',\n",
       "                                                   'v8'])])),\n",
       "                ('knn', KNeighborsRegressor())])"
      ]
     },
     "execution_count": 30,
     "metadata": {},
     "output_type": "execute_result"
    }
   ],
   "source": [
    "# fit model\n",
    "pipeline_knn.fit(X_train,y_train)\n"
   ]
  },
  {
   "attachments": {},
   "cell_type": "markdown",
   "metadata": {},
   "source": [
    "# 10. Model Evaluation"
   ]
  },
  {
   "cell_type": "code",
   "execution_count": 31,
   "metadata": {},
   "outputs": [],
   "source": [
    "# predict model\n",
    "lr_pred_train = pipeline_lr.predict(X_train)\n",
    "lr_pred_test = pipeline_lr.predict(X_test)"
   ]
  },
  {
   "cell_type": "code",
   "execution_count": 32,
   "metadata": {},
   "outputs": [],
   "source": [
    "# predict model\n",
    "svm_pred_train = pipeline_svm.predict(X_train)\n",
    "svm_pred_test = pipeline_svm.predict(X_test)\n"
   ]
  },
  {
   "cell_type": "code",
   "execution_count": 33,
   "metadata": {},
   "outputs": [],
   "source": [
    "# predict model\n",
    "rf_pred_train = pipeline_rf.predict(X_train)\n",
    "rf_pred_test = pipeline_rf.predict(X_test)\n"
   ]
  },
  {
   "cell_type": "code",
   "execution_count": 34,
   "metadata": {},
   "outputs": [],
   "source": [
    "# predict model\n",
    "gb_pred_train = pipeline_gb.predict(X_train)\n",
    "gb_pred_test = pipeline_gb.predict(X_test)\n"
   ]
  },
  {
   "cell_type": "code",
   "execution_count": 35,
   "metadata": {},
   "outputs": [],
   "source": [
    "# predict model\n",
    "knn_pred_train = pipeline_knn.predict(X_train)\n",
    "knn_pred_test = pipeline_knn.predict(X_test)\n"
   ]
  },
  {
   "attachments": {},
   "cell_type": "markdown",
   "metadata": {},
   "source": [
    "## Metrics Score"
   ]
  },
  {
   "cell_type": "code",
   "execution_count": 36,
   "metadata": {},
   "outputs": [],
   "source": [
    "all_reports={}\n",
    "# MAE\n",
    "score2 = {\n",
    "        'Linear Regression -Trein'   : round(mean_absolute_error(lr_pred_train,y_train), 4),\n",
    "        'Linear Regression -Test'    : round(mean_absolute_error(lr_pred_test, y_test), 4),\n",
    "        'SVM Regressor - Train'      : round(mean_absolute_error(svm_pred_train,y_train), 4),\n",
    "        'SVM Regressor - Test'       : round(mean_absolute_error(svm_pred_test, y_test), 4),\n",
    "        'Random Forest -Train'       : round(mean_absolute_error(rf_pred_train,y_train),4),\n",
    "        'Random Forest -Test'        : round(mean_absolute_error(rf_pred_test,y_test),4),\n",
    "        'GradientBoosting -Train'    : round(mean_absolute_error(gb_pred_train,y_train),4),\n",
    "        'GradientBoosting -Test'     : round(mean_absolute_error(gb_pred_test,y_test),4),\n",
    "        'KNeighborsRegressor -Train' : round(mean_absolute_error(knn_pred_train,y_train ),4),\n",
    "        'KNeighborsRegressor -Test' : round(mean_absolute_error(knn_pred_test,y_test ),4)\n",
    "}\n",
    "all_reports['MAE'] = score2\n",
    "\n",
    "a = pd.DataFrame(all_reports)"
   ]
  },
  {
   "cell_type": "code",
   "execution_count": 37,
   "metadata": {},
   "outputs": [],
   "source": [
    "# RMSE\n",
    "score3 = {\n",
    "        'Linear Regression -Trein'   : round(np.sqrt(mean_squared_error(lr_pred_train,y_train)), 4),\n",
    "        'Linear Regression -Test'    : round(np.sqrt(mean_squared_error(lr_pred_test, y_test)), 4),\n",
    "        'SVM Regressor - Train'      : round(np.sqrt(mean_squared_error(svm_pred_train,y_train)), 4),\n",
    "        'SVM Regressor - Test'       : round(np.sqrt(mean_squared_error(svm_pred_test, y_test)), 4),\n",
    "        'Random Forest -Train'       : round(np.sqrt(mean_squared_error(rf_pred_train,y_train)),4),\n",
    "        'Random Forest -Test'        : round(np.sqrt(mean_squared_error(rf_pred_test,y_test)),4),\n",
    "        'GradientBoosting -Train'    : round(np.sqrt(mean_squared_error(gb_pred_train,y_train)),4),\n",
    "        'GradientBoosting -Test'     : round(np.sqrt(mean_squared_error(gb_pred_test,y_test)),4),\n",
    "        'KNeighborsRegressor -Train' : round(np.sqrt(mean_squared_error(knn_pred_train,y_train)),4),\n",
    "        'KNeighborsRegressor -Test' : round(np.sqrt(mean_squared_error(knn_pred_test,y_test)),4)\n",
    "}\n",
    "all_reports['RMSE'] = score3\n",
    "\n",
    "b = pd.DataFrame(all_reports)"
   ]
  },
  {
   "cell_type": "code",
   "execution_count": 38,
   "metadata": {},
   "outputs": [
    {
     "data": {
      "text/html": [
       "<div>\n",
       "<style scoped>\n",
       "    .dataframe tbody tr th:only-of-type {\n",
       "        vertical-align: middle;\n",
       "    }\n",
       "\n",
       "    .dataframe tbody tr th {\n",
       "        vertical-align: top;\n",
       "    }\n",
       "\n",
       "    .dataframe thead th {\n",
       "        text-align: right;\n",
       "    }\n",
       "</style>\n",
       "<table border=\"1\" class=\"dataframe\">\n",
       "  <thead>\n",
       "    <tr style=\"text-align: right;\">\n",
       "      <th></th>\n",
       "      <th>MAE</th>\n",
       "      <th>RMSE</th>\n",
       "      <th>MSE</th>\n",
       "    </tr>\n",
       "  </thead>\n",
       "  <tbody>\n",
       "    <tr>\n",
       "      <th>Linear Regression -Trein</th>\n",
       "      <td>0.1520</td>\n",
       "      <td>0.1853</td>\n",
       "      <td>0.0344</td>\n",
       "    </tr>\n",
       "    <tr>\n",
       "      <th>Linear Regression -Test</th>\n",
       "      <td>0.1627</td>\n",
       "      <td>0.1966</td>\n",
       "      <td>0.0387</td>\n",
       "    </tr>\n",
       "    <tr>\n",
       "      <th>SVM Regressor - Train</th>\n",
       "      <td>0.1353</td>\n",
       "      <td>0.1640</td>\n",
       "      <td>0.0269</td>\n",
       "    </tr>\n",
       "    <tr>\n",
       "      <th>SVM Regressor - Test</th>\n",
       "      <td>0.1596</td>\n",
       "      <td>0.1816</td>\n",
       "      <td>0.0330</td>\n",
       "    </tr>\n",
       "    <tr>\n",
       "      <th>Random Forest -Train</th>\n",
       "      <td>0.0580</td>\n",
       "      <td>0.0749</td>\n",
       "      <td>0.0056</td>\n",
       "    </tr>\n",
       "    <tr>\n",
       "      <th>Random Forest -Test</th>\n",
       "      <td>0.1539</td>\n",
       "      <td>0.1858</td>\n",
       "      <td>0.0345</td>\n",
       "    </tr>\n",
       "    <tr>\n",
       "      <th>GradientBoosting -Train</th>\n",
       "      <td>0.0353</td>\n",
       "      <td>0.0427</td>\n",
       "      <td>0.0018</td>\n",
       "    </tr>\n",
       "    <tr>\n",
       "      <th>GradientBoosting -Test</th>\n",
       "      <td>0.1451</td>\n",
       "      <td>0.1747</td>\n",
       "      <td>0.0305</td>\n",
       "    </tr>\n",
       "    <tr>\n",
       "      <th>KNeighborsRegressor -Train</th>\n",
       "      <td>0.1244</td>\n",
       "      <td>0.1599</td>\n",
       "      <td>0.0256</td>\n",
       "    </tr>\n",
       "    <tr>\n",
       "      <th>KNeighborsRegressor -Test</th>\n",
       "      <td>0.1752</td>\n",
       "      <td>0.2056</td>\n",
       "      <td>0.0423</td>\n",
       "    </tr>\n",
       "  </tbody>\n",
       "</table>\n",
       "</div>"
      ],
      "text/plain": [
       "                               MAE    RMSE     MSE\n",
       "Linear Regression -Trein    0.1520  0.1853  0.0344\n",
       "Linear Regression -Test     0.1627  0.1966  0.0387\n",
       "SVM Regressor - Train       0.1353  0.1640  0.0269\n",
       "SVM Regressor - Test        0.1596  0.1816  0.0330\n",
       "Random Forest -Train        0.0580  0.0749  0.0056\n",
       "Random Forest -Test         0.1539  0.1858  0.0345\n",
       "GradientBoosting -Train     0.0353  0.0427  0.0018\n",
       "GradientBoosting -Test      0.1451  0.1747  0.0305\n",
       "KNeighborsRegressor -Train  0.1244  0.1599  0.0256\n",
       "KNeighborsRegressor -Test   0.1752  0.2056  0.0423"
      ]
     },
     "execution_count": 38,
     "metadata": {},
     "output_type": "execute_result"
    }
   ],
   "source": [
    "# MSE\n",
    "score4 = {\n",
    "        'Linear Regression -Trein'   : round(mean_squared_error(lr_pred_train,y_train), 4),\n",
    "        'Linear Regression -Test'    : round(mean_squared_error(lr_pred_test, y_test), 4),\n",
    "        'SVM Regressor - Train'      : round(mean_squared_error(svm_pred_train,y_train), 4),\n",
    "        'SVM Regressor - Test'       : round(mean_squared_error(svm_pred_test, y_test), 4),\n",
    "        'Random Forest -Train'       : round(mean_squared_error(rf_pred_train,y_train),4),\n",
    "        'Random Forest -Test'        : round(mean_squared_error(rf_pred_test,y_test),4),\n",
    "        'GradientBoosting -Train'    : round(mean_squared_error(gb_pred_train,y_train),4),\n",
    "        'GradientBoosting -Test'     : round(mean_squared_error(gb_pred_test,y_test),4),\n",
    "        'KNeighborsRegressor -Train' : round(mean_squared_error(knn_pred_train,y_train ),4),\n",
    "        'KNeighborsRegressor -Test' : round(mean_squared_error(knn_pred_test,y_test ),4)\n",
    "}\n",
    "all_reports['MSE'] = score4\n",
    "\n",
    "c = pd.DataFrame(all_reports)\n",
    "c"
   ]
  },
  {
   "attachments": {},
   "cell_type": "markdown",
   "metadata": {},
   "source": [
    "## Tuning Parameter"
   ]
  },
  {
   "cell_type": "code",
   "execution_count": 39,
   "metadata": {},
   "outputs": [],
   "source": [
    "# Parameter Liner regression\n",
    "parameter_lr ={\n",
    "    'lr__n_jobs' : [1,2,3]\n",
    "    }\n",
    "\n",
    "#Parameter SVR\n",
    "parameter_svm = {\n",
    "    'svm__kernel' : ['rbf', 'sigmoid'],\n",
    "    'svm__degree' : [3,4,5,6],\n",
    "    'svm__gamma' : ['scale', 'auto']\n",
    "}\n",
    "\n",
    "# Parameter random forest\n",
    "parameter_rf = {\n",
    "    'rf__n_estimators' : [200,250,500,700],\n",
    "    'rf__criterion' : ['squared_error', 'absolute_error'],\n",
    "    'rf__max_depth': [2,3,4]\n",
    "}\n",
    "\n",
    "parameter_gb = {\n",
    "    'gb__n_estimators'  : [200,300,500,1000],\n",
    "    'gb__learning_rate' : [0.1,0.3,0.4],\n",
    "}\n",
    "\n",
    "# Parameter KNN\n",
    "parameter_knn = {\n",
    "    'knn__n_neighbors' : [3,4],\n",
    "    'knn__leaf_size' : [30, 45]\n",
    "}"
   ]
  },
  {
   "attachments": {},
   "cell_type": "markdown",
   "metadata": {},
   "source": [
    "## A. Linear regression"
   ]
  },
  {
   "cell_type": "code",
   "execution_count": 41,
   "metadata": {},
   "outputs": [
    {
     "name": "stdout",
     "output_type": "stream",
     "text": [
      "Fitting 5 folds for each of 3 candidates, totalling 15 fits\n"
     ]
    },
    {
     "data": {
      "text/html": [
       "<style>#sk-container-id-7 {color: black;background-color: white;}#sk-container-id-7 pre{padding: 0;}#sk-container-id-7 div.sk-toggleable {background-color: white;}#sk-container-id-7 label.sk-toggleable__label {cursor: pointer;display: block;width: 100%;margin-bottom: 0;padding: 0.3em;box-sizing: border-box;text-align: center;}#sk-container-id-7 label.sk-toggleable__label-arrow:before {content: \"▸\";float: left;margin-right: 0.25em;color: #696969;}#sk-container-id-7 label.sk-toggleable__label-arrow:hover:before {color: black;}#sk-container-id-7 div.sk-estimator:hover label.sk-toggleable__label-arrow:before {color: black;}#sk-container-id-7 div.sk-toggleable__content {max-height: 0;max-width: 0;overflow: hidden;text-align: left;background-color: #f0f8ff;}#sk-container-id-7 div.sk-toggleable__content pre {margin: 0.2em;color: black;border-radius: 0.25em;background-color: #f0f8ff;}#sk-container-id-7 input.sk-toggleable__control:checked~div.sk-toggleable__content {max-height: 200px;max-width: 100%;overflow: auto;}#sk-container-id-7 input.sk-toggleable__control:checked~label.sk-toggleable__label-arrow:before {content: \"▾\";}#sk-container-id-7 div.sk-estimator input.sk-toggleable__control:checked~label.sk-toggleable__label {background-color: #d4ebff;}#sk-container-id-7 div.sk-label input.sk-toggleable__control:checked~label.sk-toggleable__label {background-color: #d4ebff;}#sk-container-id-7 input.sk-hidden--visually {border: 0;clip: rect(1px 1px 1px 1px);clip: rect(1px, 1px, 1px, 1px);height: 1px;margin: -1px;overflow: hidden;padding: 0;position: absolute;width: 1px;}#sk-container-id-7 div.sk-estimator {font-family: monospace;background-color: #f0f8ff;border: 1px dotted black;border-radius: 0.25em;box-sizing: border-box;margin-bottom: 0.5em;}#sk-container-id-7 div.sk-estimator:hover {background-color: #d4ebff;}#sk-container-id-7 div.sk-parallel-item::after {content: \"\";width: 100%;border-bottom: 1px solid gray;flex-grow: 1;}#sk-container-id-7 div.sk-label:hover label.sk-toggleable__label {background-color: #d4ebff;}#sk-container-id-7 div.sk-serial::before {content: \"\";position: absolute;border-left: 1px solid gray;box-sizing: border-box;top: 0;bottom: 0;left: 50%;z-index: 0;}#sk-container-id-7 div.sk-serial {display: flex;flex-direction: column;align-items: center;background-color: white;padding-right: 0.2em;padding-left: 0.2em;position: relative;}#sk-container-id-7 div.sk-item {position: relative;z-index: 1;}#sk-container-id-7 div.sk-parallel {display: flex;align-items: stretch;justify-content: center;background-color: white;position: relative;}#sk-container-id-7 div.sk-item::before, #sk-container-id-7 div.sk-parallel-item::before {content: \"\";position: absolute;border-left: 1px solid gray;box-sizing: border-box;top: 0;bottom: 0;left: 50%;z-index: -1;}#sk-container-id-7 div.sk-parallel-item {display: flex;flex-direction: column;z-index: 1;position: relative;background-color: white;}#sk-container-id-7 div.sk-parallel-item:first-child::after {align-self: flex-end;width: 50%;}#sk-container-id-7 div.sk-parallel-item:last-child::after {align-self: flex-start;width: 50%;}#sk-container-id-7 div.sk-parallel-item:only-child::after {width: 0;}#sk-container-id-7 div.sk-dashed-wrapped {border: 1px dashed gray;margin: 0 0.4em 0.5em 0.4em;box-sizing: border-box;padding-bottom: 0.4em;background-color: white;}#sk-container-id-7 div.sk-label label {font-family: monospace;font-weight: bold;display: inline-block;line-height: 1.2em;}#sk-container-id-7 div.sk-label-container {text-align: center;}#sk-container-id-7 div.sk-container {/* jupyter's `normalize.less` sets `[hidden] { display: none; }` but bootstrap.min.css set `[hidden] { display: none !important; }` so we also need the `!important` here to be able to override the default hidden behavior on the sphinx rendered scikit-learn.org. See: https://github.com/scikit-learn/scikit-learn/issues/21755 */display: inline-block !important;position: relative;}#sk-container-id-7 div.sk-text-repr-fallback {display: none;}</style><div id=\"sk-container-id-7\" class=\"sk-top-container\"><div class=\"sk-text-repr-fallback\"><pre>GridSearchCV(cv=5,\n",
       "             estimator=Pipeline(steps=[(&#x27;processor&#x27;,\n",
       "                                        ColumnTransformer(transformers=[(&#x27;pipe_num&#x27;,\n",
       "                                                                         MinMaxScaler(),\n",
       "                                                                         [&#x27;v2&#x27;,\n",
       "                                                                          &#x27;v4&#x27;,\n",
       "                                                                          &#x27;v5&#x27;,\n",
       "                                                                          &#x27;v6&#x27;,\n",
       "                                                                          &#x27;v7&#x27;,\n",
       "                                                                          &#x27;v8&#x27;])])),\n",
       "                                       (&#x27;lr&#x27;, LinearRegression())]),\n",
       "             param_grid={&#x27;lr__n_jobs&#x27;: [1, 2, 3]}, verbose=1)</pre><b>In a Jupyter environment, please rerun this cell to show the HTML representation or trust the notebook. <br />On GitHub, the HTML representation is unable to render, please try loading this page with nbviewer.org.</b></div><div class=\"sk-container\" hidden><div class=\"sk-item sk-dashed-wrapped\"><div class=\"sk-label-container\"><div class=\"sk-label sk-toggleable\"><input class=\"sk-toggleable__control sk-hidden--visually\" id=\"sk-estimator-id-29\" type=\"checkbox\" ><label for=\"sk-estimator-id-29\" class=\"sk-toggleable__label sk-toggleable__label-arrow\">GridSearchCV</label><div class=\"sk-toggleable__content\"><pre>GridSearchCV(cv=5,\n",
       "             estimator=Pipeline(steps=[(&#x27;processor&#x27;,\n",
       "                                        ColumnTransformer(transformers=[(&#x27;pipe_num&#x27;,\n",
       "                                                                         MinMaxScaler(),\n",
       "                                                                         [&#x27;v2&#x27;,\n",
       "                                                                          &#x27;v4&#x27;,\n",
       "                                                                          &#x27;v5&#x27;,\n",
       "                                                                          &#x27;v6&#x27;,\n",
       "                                                                          &#x27;v7&#x27;,\n",
       "                                                                          &#x27;v8&#x27;])])),\n",
       "                                       (&#x27;lr&#x27;, LinearRegression())]),\n",
       "             param_grid={&#x27;lr__n_jobs&#x27;: [1, 2, 3]}, verbose=1)</pre></div></div></div><div class=\"sk-parallel\"><div class=\"sk-parallel-item\"><div class=\"sk-item\"><div class=\"sk-label-container\"><div class=\"sk-label sk-toggleable\"><input class=\"sk-toggleable__control sk-hidden--visually\" id=\"sk-estimator-id-30\" type=\"checkbox\" ><label for=\"sk-estimator-id-30\" class=\"sk-toggleable__label sk-toggleable__label-arrow\">estimator: Pipeline</label><div class=\"sk-toggleable__content\"><pre>Pipeline(steps=[(&#x27;processor&#x27;,\n",
       "                 ColumnTransformer(transformers=[(&#x27;pipe_num&#x27;, MinMaxScaler(),\n",
       "                                                  [&#x27;v2&#x27;, &#x27;v4&#x27;, &#x27;v5&#x27;, &#x27;v6&#x27;, &#x27;v7&#x27;,\n",
       "                                                   &#x27;v8&#x27;])])),\n",
       "                (&#x27;lr&#x27;, LinearRegression())])</pre></div></div></div><div class=\"sk-serial\"><div class=\"sk-item\"><div class=\"sk-serial\"><div class=\"sk-item sk-dashed-wrapped\"><div class=\"sk-label-container\"><div class=\"sk-label sk-toggleable\"><input class=\"sk-toggleable__control sk-hidden--visually\" id=\"sk-estimator-id-31\" type=\"checkbox\" ><label for=\"sk-estimator-id-31\" class=\"sk-toggleable__label sk-toggleable__label-arrow\">processor: ColumnTransformer</label><div class=\"sk-toggleable__content\"><pre>ColumnTransformer(transformers=[(&#x27;pipe_num&#x27;, MinMaxScaler(),\n",
       "                                 [&#x27;v2&#x27;, &#x27;v4&#x27;, &#x27;v5&#x27;, &#x27;v6&#x27;, &#x27;v7&#x27;, &#x27;v8&#x27;])])</pre></div></div></div><div class=\"sk-parallel\"><div class=\"sk-parallel-item\"><div class=\"sk-item\"><div class=\"sk-label-container\"><div class=\"sk-label sk-toggleable\"><input class=\"sk-toggleable__control sk-hidden--visually\" id=\"sk-estimator-id-32\" type=\"checkbox\" ><label for=\"sk-estimator-id-32\" class=\"sk-toggleable__label sk-toggleable__label-arrow\">pipe_num</label><div class=\"sk-toggleable__content\"><pre>[&#x27;v2&#x27;, &#x27;v4&#x27;, &#x27;v5&#x27;, &#x27;v6&#x27;, &#x27;v7&#x27;, &#x27;v8&#x27;]</pre></div></div></div><div class=\"sk-serial\"><div class=\"sk-item\"><div class=\"sk-estimator sk-toggleable\"><input class=\"sk-toggleable__control sk-hidden--visually\" id=\"sk-estimator-id-33\" type=\"checkbox\" ><label for=\"sk-estimator-id-33\" class=\"sk-toggleable__label sk-toggleable__label-arrow\">MinMaxScaler</label><div class=\"sk-toggleable__content\"><pre>MinMaxScaler()</pre></div></div></div></div></div></div></div></div><div class=\"sk-item\"><div class=\"sk-estimator sk-toggleable\"><input class=\"sk-toggleable__control sk-hidden--visually\" id=\"sk-estimator-id-34\" type=\"checkbox\" ><label for=\"sk-estimator-id-34\" class=\"sk-toggleable__label sk-toggleable__label-arrow\">LinearRegression</label><div class=\"sk-toggleable__content\"><pre>LinearRegression()</pre></div></div></div></div></div></div></div></div></div></div></div></div>"
      ],
      "text/plain": [
       "GridSearchCV(cv=5,\n",
       "             estimator=Pipeline(steps=[('processor',\n",
       "                                        ColumnTransformer(transformers=[('pipe_num',\n",
       "                                                                         MinMaxScaler(),\n",
       "                                                                         ['v2',\n",
       "                                                                          'v4',\n",
       "                                                                          'v5',\n",
       "                                                                          'v6',\n",
       "                                                                          'v7',\n",
       "                                                                          'v8'])])),\n",
       "                                       ('lr', LinearRegression())]),\n",
       "             param_grid={'lr__n_jobs': [1, 2, 3]}, verbose=1)"
      ]
     },
     "execution_count": 41,
     "metadata": {},
     "output_type": "execute_result"
    }
   ],
   "source": [
    "# Tuning Process Linear Regrssion\n",
    "lr_grid = GridSearchCV(estimator=pipeline_lr,\n",
    "                         param_grid=parameter_lr,\n",
    "                         cv=5,\n",
    "                         verbose=1)\n",
    "lr_grid.fit(X_train,y_train)"
   ]
  },
  {
   "cell_type": "code",
   "execution_count": 42,
   "metadata": {},
   "outputs": [],
   "source": [
    "# best parameter linear regression\n",
    "lr_grid.best_params_\n",
    "\n",
    "# predict using best parameter\n",
    "lr_grid_best = lr_grid.best_estimator_\n",
    "\n",
    "lr_grid_best.fit(X_train,y_train)\n",
    "lr_pred_train_tune = lr_grid_best.predict(X_train)\n",
    "lr_pred_test_tune = lr_grid_best.predict(X_test)"
   ]
  },
  {
   "attachments": {},
   "cell_type": "markdown",
   "metadata": {},
   "source": [
    "## B. SVM"
   ]
  },
  {
   "cell_type": "code",
   "execution_count": 43,
   "metadata": {},
   "outputs": [
    {
     "name": "stdout",
     "output_type": "stream",
     "text": [
      "Fitting 5 folds for each of 16 candidates, totalling 80 fits\n"
     ]
    },
    {
     "data": {
      "text/html": [
       "<style>#sk-container-id-8 {color: black;background-color: white;}#sk-container-id-8 pre{padding: 0;}#sk-container-id-8 div.sk-toggleable {background-color: white;}#sk-container-id-8 label.sk-toggleable__label {cursor: pointer;display: block;width: 100%;margin-bottom: 0;padding: 0.3em;box-sizing: border-box;text-align: center;}#sk-container-id-8 label.sk-toggleable__label-arrow:before {content: \"▸\";float: left;margin-right: 0.25em;color: #696969;}#sk-container-id-8 label.sk-toggleable__label-arrow:hover:before {color: black;}#sk-container-id-8 div.sk-estimator:hover label.sk-toggleable__label-arrow:before {color: black;}#sk-container-id-8 div.sk-toggleable__content {max-height: 0;max-width: 0;overflow: hidden;text-align: left;background-color: #f0f8ff;}#sk-container-id-8 div.sk-toggleable__content pre {margin: 0.2em;color: black;border-radius: 0.25em;background-color: #f0f8ff;}#sk-container-id-8 input.sk-toggleable__control:checked~div.sk-toggleable__content {max-height: 200px;max-width: 100%;overflow: auto;}#sk-container-id-8 input.sk-toggleable__control:checked~label.sk-toggleable__label-arrow:before {content: \"▾\";}#sk-container-id-8 div.sk-estimator input.sk-toggleable__control:checked~label.sk-toggleable__label {background-color: #d4ebff;}#sk-container-id-8 div.sk-label input.sk-toggleable__control:checked~label.sk-toggleable__label {background-color: #d4ebff;}#sk-container-id-8 input.sk-hidden--visually {border: 0;clip: rect(1px 1px 1px 1px);clip: rect(1px, 1px, 1px, 1px);height: 1px;margin: -1px;overflow: hidden;padding: 0;position: absolute;width: 1px;}#sk-container-id-8 div.sk-estimator {font-family: monospace;background-color: #f0f8ff;border: 1px dotted black;border-radius: 0.25em;box-sizing: border-box;margin-bottom: 0.5em;}#sk-container-id-8 div.sk-estimator:hover {background-color: #d4ebff;}#sk-container-id-8 div.sk-parallel-item::after {content: \"\";width: 100%;border-bottom: 1px solid gray;flex-grow: 1;}#sk-container-id-8 div.sk-label:hover label.sk-toggleable__label {background-color: #d4ebff;}#sk-container-id-8 div.sk-serial::before {content: \"\";position: absolute;border-left: 1px solid gray;box-sizing: border-box;top: 0;bottom: 0;left: 50%;z-index: 0;}#sk-container-id-8 div.sk-serial {display: flex;flex-direction: column;align-items: center;background-color: white;padding-right: 0.2em;padding-left: 0.2em;position: relative;}#sk-container-id-8 div.sk-item {position: relative;z-index: 1;}#sk-container-id-8 div.sk-parallel {display: flex;align-items: stretch;justify-content: center;background-color: white;position: relative;}#sk-container-id-8 div.sk-item::before, #sk-container-id-8 div.sk-parallel-item::before {content: \"\";position: absolute;border-left: 1px solid gray;box-sizing: border-box;top: 0;bottom: 0;left: 50%;z-index: -1;}#sk-container-id-8 div.sk-parallel-item {display: flex;flex-direction: column;z-index: 1;position: relative;background-color: white;}#sk-container-id-8 div.sk-parallel-item:first-child::after {align-self: flex-end;width: 50%;}#sk-container-id-8 div.sk-parallel-item:last-child::after {align-self: flex-start;width: 50%;}#sk-container-id-8 div.sk-parallel-item:only-child::after {width: 0;}#sk-container-id-8 div.sk-dashed-wrapped {border: 1px dashed gray;margin: 0 0.4em 0.5em 0.4em;box-sizing: border-box;padding-bottom: 0.4em;background-color: white;}#sk-container-id-8 div.sk-label label {font-family: monospace;font-weight: bold;display: inline-block;line-height: 1.2em;}#sk-container-id-8 div.sk-label-container {text-align: center;}#sk-container-id-8 div.sk-container {/* jupyter's `normalize.less` sets `[hidden] { display: none; }` but bootstrap.min.css set `[hidden] { display: none !important; }` so we also need the `!important` here to be able to override the default hidden behavior on the sphinx rendered scikit-learn.org. See: https://github.com/scikit-learn/scikit-learn/issues/21755 */display: inline-block !important;position: relative;}#sk-container-id-8 div.sk-text-repr-fallback {display: none;}</style><div id=\"sk-container-id-8\" class=\"sk-top-container\"><div class=\"sk-text-repr-fallback\"><pre>GridSearchCV(cv=5,\n",
       "             estimator=Pipeline(steps=[(&#x27;processor&#x27;,\n",
       "                                        ColumnTransformer(transformers=[(&#x27;pipe_num&#x27;,\n",
       "                                                                         MinMaxScaler(),\n",
       "                                                                         [&#x27;v2&#x27;,\n",
       "                                                                          &#x27;v4&#x27;,\n",
       "                                                                          &#x27;v5&#x27;,\n",
       "                                                                          &#x27;v6&#x27;,\n",
       "                                                                          &#x27;v7&#x27;,\n",
       "                                                                          &#x27;v8&#x27;])])),\n",
       "                                       (&#x27;svm&#x27;, SVR())]),\n",
       "             param_grid={&#x27;svm__degree&#x27;: [3, 4, 5, 6],\n",
       "                         &#x27;svm__gamma&#x27;: [&#x27;scale&#x27;, &#x27;auto&#x27;],\n",
       "                         &#x27;svm__kernel&#x27;: [&#x27;rbf&#x27;, &#x27;sigmoid&#x27;]},\n",
       "             verbose=1)</pre><b>In a Jupyter environment, please rerun this cell to show the HTML representation or trust the notebook. <br />On GitHub, the HTML representation is unable to render, please try loading this page with nbviewer.org.</b></div><div class=\"sk-container\" hidden><div class=\"sk-item sk-dashed-wrapped\"><div class=\"sk-label-container\"><div class=\"sk-label sk-toggleable\"><input class=\"sk-toggleable__control sk-hidden--visually\" id=\"sk-estimator-id-35\" type=\"checkbox\" ><label for=\"sk-estimator-id-35\" class=\"sk-toggleable__label sk-toggleable__label-arrow\">GridSearchCV</label><div class=\"sk-toggleable__content\"><pre>GridSearchCV(cv=5,\n",
       "             estimator=Pipeline(steps=[(&#x27;processor&#x27;,\n",
       "                                        ColumnTransformer(transformers=[(&#x27;pipe_num&#x27;,\n",
       "                                                                         MinMaxScaler(),\n",
       "                                                                         [&#x27;v2&#x27;,\n",
       "                                                                          &#x27;v4&#x27;,\n",
       "                                                                          &#x27;v5&#x27;,\n",
       "                                                                          &#x27;v6&#x27;,\n",
       "                                                                          &#x27;v7&#x27;,\n",
       "                                                                          &#x27;v8&#x27;])])),\n",
       "                                       (&#x27;svm&#x27;, SVR())]),\n",
       "             param_grid={&#x27;svm__degree&#x27;: [3, 4, 5, 6],\n",
       "                         &#x27;svm__gamma&#x27;: [&#x27;scale&#x27;, &#x27;auto&#x27;],\n",
       "                         &#x27;svm__kernel&#x27;: [&#x27;rbf&#x27;, &#x27;sigmoid&#x27;]},\n",
       "             verbose=1)</pre></div></div></div><div class=\"sk-parallel\"><div class=\"sk-parallel-item\"><div class=\"sk-item\"><div class=\"sk-label-container\"><div class=\"sk-label sk-toggleable\"><input class=\"sk-toggleable__control sk-hidden--visually\" id=\"sk-estimator-id-36\" type=\"checkbox\" ><label for=\"sk-estimator-id-36\" class=\"sk-toggleable__label sk-toggleable__label-arrow\">estimator: Pipeline</label><div class=\"sk-toggleable__content\"><pre>Pipeline(steps=[(&#x27;processor&#x27;,\n",
       "                 ColumnTransformer(transformers=[(&#x27;pipe_num&#x27;, MinMaxScaler(),\n",
       "                                                  [&#x27;v2&#x27;, &#x27;v4&#x27;, &#x27;v5&#x27;, &#x27;v6&#x27;, &#x27;v7&#x27;,\n",
       "                                                   &#x27;v8&#x27;])])),\n",
       "                (&#x27;svm&#x27;, SVR())])</pre></div></div></div><div class=\"sk-serial\"><div class=\"sk-item\"><div class=\"sk-serial\"><div class=\"sk-item sk-dashed-wrapped\"><div class=\"sk-label-container\"><div class=\"sk-label sk-toggleable\"><input class=\"sk-toggleable__control sk-hidden--visually\" id=\"sk-estimator-id-37\" type=\"checkbox\" ><label for=\"sk-estimator-id-37\" class=\"sk-toggleable__label sk-toggleable__label-arrow\">processor: ColumnTransformer</label><div class=\"sk-toggleable__content\"><pre>ColumnTransformer(transformers=[(&#x27;pipe_num&#x27;, MinMaxScaler(),\n",
       "                                 [&#x27;v2&#x27;, &#x27;v4&#x27;, &#x27;v5&#x27;, &#x27;v6&#x27;, &#x27;v7&#x27;, &#x27;v8&#x27;])])</pre></div></div></div><div class=\"sk-parallel\"><div class=\"sk-parallel-item\"><div class=\"sk-item\"><div class=\"sk-label-container\"><div class=\"sk-label sk-toggleable\"><input class=\"sk-toggleable__control sk-hidden--visually\" id=\"sk-estimator-id-38\" type=\"checkbox\" ><label for=\"sk-estimator-id-38\" class=\"sk-toggleable__label sk-toggleable__label-arrow\">pipe_num</label><div class=\"sk-toggleable__content\"><pre>[&#x27;v2&#x27;, &#x27;v4&#x27;, &#x27;v5&#x27;, &#x27;v6&#x27;, &#x27;v7&#x27;, &#x27;v8&#x27;]</pre></div></div></div><div class=\"sk-serial\"><div class=\"sk-item\"><div class=\"sk-estimator sk-toggleable\"><input class=\"sk-toggleable__control sk-hidden--visually\" id=\"sk-estimator-id-39\" type=\"checkbox\" ><label for=\"sk-estimator-id-39\" class=\"sk-toggleable__label sk-toggleable__label-arrow\">MinMaxScaler</label><div class=\"sk-toggleable__content\"><pre>MinMaxScaler()</pre></div></div></div></div></div></div></div></div><div class=\"sk-item\"><div class=\"sk-estimator sk-toggleable\"><input class=\"sk-toggleable__control sk-hidden--visually\" id=\"sk-estimator-id-40\" type=\"checkbox\" ><label for=\"sk-estimator-id-40\" class=\"sk-toggleable__label sk-toggleable__label-arrow\">SVR</label><div class=\"sk-toggleable__content\"><pre>SVR()</pre></div></div></div></div></div></div></div></div></div></div></div></div>"
      ],
      "text/plain": [
       "GridSearchCV(cv=5,\n",
       "             estimator=Pipeline(steps=[('processor',\n",
       "                                        ColumnTransformer(transformers=[('pipe_num',\n",
       "                                                                         MinMaxScaler(),\n",
       "                                                                         ['v2',\n",
       "                                                                          'v4',\n",
       "                                                                          'v5',\n",
       "                                                                          'v6',\n",
       "                                                                          'v7',\n",
       "                                                                          'v8'])])),\n",
       "                                       ('svm', SVR())]),\n",
       "             param_grid={'svm__degree': [3, 4, 5, 6],\n",
       "                         'svm__gamma': ['scale', 'auto'],\n",
       "                         'svm__kernel': ['rbf', 'sigmoid']},\n",
       "             verbose=1)"
      ]
     },
     "execution_count": 43,
     "metadata": {},
     "output_type": "execute_result"
    }
   ],
   "source": [
    "# Tuning Process Random Forest\n",
    "\n",
    "svm_grid = GridSearchCV(estimator=pipeline_svm,\n",
    "                         param_grid=parameter_svm,\n",
    "                         cv=5,\n",
    "                         verbose=1\n",
    "                        )\n",
    "svm_grid.fit(X_train,y_train)"
   ]
  },
  {
   "cell_type": "code",
   "execution_count": 44,
   "metadata": {},
   "outputs": [],
   "source": [
    "# Kneighbors best parameter\n",
    "svm_grid.best_params_\n",
    "\n",
    "# predict using best parameter\n",
    "svm_grid_best = svm_grid.best_estimator_\n",
    "\n",
    "svm_grid_best.fit(X_train,y_train)\n",
    "svm_pred_train_tune = svm_grid_best.predict(X_train)\n",
    "svm_pred_test_tune = svm_grid_best.predict(X_test)"
   ]
  },
  {
   "attachments": {},
   "cell_type": "markdown",
   "metadata": {},
   "source": [
    "## C. Random Forest"
   ]
  },
  {
   "cell_type": "code",
   "execution_count": 45,
   "metadata": {},
   "outputs": [
    {
     "name": "stdout",
     "output_type": "stream",
     "text": [
      "Fitting 5 folds for each of 24 candidates, totalling 120 fits\n"
     ]
    },
    {
     "data": {
      "text/html": [
       "<style>#sk-container-id-9 {color: black;background-color: white;}#sk-container-id-9 pre{padding: 0;}#sk-container-id-9 div.sk-toggleable {background-color: white;}#sk-container-id-9 label.sk-toggleable__label {cursor: pointer;display: block;width: 100%;margin-bottom: 0;padding: 0.3em;box-sizing: border-box;text-align: center;}#sk-container-id-9 label.sk-toggleable__label-arrow:before {content: \"▸\";float: left;margin-right: 0.25em;color: #696969;}#sk-container-id-9 label.sk-toggleable__label-arrow:hover:before {color: black;}#sk-container-id-9 div.sk-estimator:hover label.sk-toggleable__label-arrow:before {color: black;}#sk-container-id-9 div.sk-toggleable__content {max-height: 0;max-width: 0;overflow: hidden;text-align: left;background-color: #f0f8ff;}#sk-container-id-9 div.sk-toggleable__content pre {margin: 0.2em;color: black;border-radius: 0.25em;background-color: #f0f8ff;}#sk-container-id-9 input.sk-toggleable__control:checked~div.sk-toggleable__content {max-height: 200px;max-width: 100%;overflow: auto;}#sk-container-id-9 input.sk-toggleable__control:checked~label.sk-toggleable__label-arrow:before {content: \"▾\";}#sk-container-id-9 div.sk-estimator input.sk-toggleable__control:checked~label.sk-toggleable__label {background-color: #d4ebff;}#sk-container-id-9 div.sk-label input.sk-toggleable__control:checked~label.sk-toggleable__label {background-color: #d4ebff;}#sk-container-id-9 input.sk-hidden--visually {border: 0;clip: rect(1px 1px 1px 1px);clip: rect(1px, 1px, 1px, 1px);height: 1px;margin: -1px;overflow: hidden;padding: 0;position: absolute;width: 1px;}#sk-container-id-9 div.sk-estimator {font-family: monospace;background-color: #f0f8ff;border: 1px dotted black;border-radius: 0.25em;box-sizing: border-box;margin-bottom: 0.5em;}#sk-container-id-9 div.sk-estimator:hover {background-color: #d4ebff;}#sk-container-id-9 div.sk-parallel-item::after {content: \"\";width: 100%;border-bottom: 1px solid gray;flex-grow: 1;}#sk-container-id-9 div.sk-label:hover label.sk-toggleable__label {background-color: #d4ebff;}#sk-container-id-9 div.sk-serial::before {content: \"\";position: absolute;border-left: 1px solid gray;box-sizing: border-box;top: 0;bottom: 0;left: 50%;z-index: 0;}#sk-container-id-9 div.sk-serial {display: flex;flex-direction: column;align-items: center;background-color: white;padding-right: 0.2em;padding-left: 0.2em;position: relative;}#sk-container-id-9 div.sk-item {position: relative;z-index: 1;}#sk-container-id-9 div.sk-parallel {display: flex;align-items: stretch;justify-content: center;background-color: white;position: relative;}#sk-container-id-9 div.sk-item::before, #sk-container-id-9 div.sk-parallel-item::before {content: \"\";position: absolute;border-left: 1px solid gray;box-sizing: border-box;top: 0;bottom: 0;left: 50%;z-index: -1;}#sk-container-id-9 div.sk-parallel-item {display: flex;flex-direction: column;z-index: 1;position: relative;background-color: white;}#sk-container-id-9 div.sk-parallel-item:first-child::after {align-self: flex-end;width: 50%;}#sk-container-id-9 div.sk-parallel-item:last-child::after {align-self: flex-start;width: 50%;}#sk-container-id-9 div.sk-parallel-item:only-child::after {width: 0;}#sk-container-id-9 div.sk-dashed-wrapped {border: 1px dashed gray;margin: 0 0.4em 0.5em 0.4em;box-sizing: border-box;padding-bottom: 0.4em;background-color: white;}#sk-container-id-9 div.sk-label label {font-family: monospace;font-weight: bold;display: inline-block;line-height: 1.2em;}#sk-container-id-9 div.sk-label-container {text-align: center;}#sk-container-id-9 div.sk-container {/* jupyter's `normalize.less` sets `[hidden] { display: none; }` but bootstrap.min.css set `[hidden] { display: none !important; }` so we also need the `!important` here to be able to override the default hidden behavior on the sphinx rendered scikit-learn.org. See: https://github.com/scikit-learn/scikit-learn/issues/21755 */display: inline-block !important;position: relative;}#sk-container-id-9 div.sk-text-repr-fallback {display: none;}</style><div id=\"sk-container-id-9\" class=\"sk-top-container\"><div class=\"sk-text-repr-fallback\"><pre>GridSearchCV(cv=5,\n",
       "             estimator=Pipeline(steps=[(&#x27;processor&#x27;,\n",
       "                                        ColumnTransformer(transformers=[(&#x27;pipe_num&#x27;,\n",
       "                                                                         MinMaxScaler(),\n",
       "                                                                         [&#x27;v2&#x27;,\n",
       "                                                                          &#x27;v4&#x27;,\n",
       "                                                                          &#x27;v5&#x27;,\n",
       "                                                                          &#x27;v6&#x27;,\n",
       "                                                                          &#x27;v7&#x27;,\n",
       "                                                                          &#x27;v8&#x27;])])),\n",
       "                                       (&#x27;rf&#x27;,\n",
       "                                        RandomForestRegressor(random_state=77))]),\n",
       "             param_grid={&#x27;rf__criterion&#x27;: [&#x27;squared_error&#x27;, &#x27;absolute_error&#x27;],\n",
       "                         &#x27;rf__max_depth&#x27;: [2, 3, 4],\n",
       "                         &#x27;rf__n_estimators&#x27;: [200, 250, 500, 700]},\n",
       "             verbose=1)</pre><b>In a Jupyter environment, please rerun this cell to show the HTML representation or trust the notebook. <br />On GitHub, the HTML representation is unable to render, please try loading this page with nbviewer.org.</b></div><div class=\"sk-container\" hidden><div class=\"sk-item sk-dashed-wrapped\"><div class=\"sk-label-container\"><div class=\"sk-label sk-toggleable\"><input class=\"sk-toggleable__control sk-hidden--visually\" id=\"sk-estimator-id-41\" type=\"checkbox\" ><label for=\"sk-estimator-id-41\" class=\"sk-toggleable__label sk-toggleable__label-arrow\">GridSearchCV</label><div class=\"sk-toggleable__content\"><pre>GridSearchCV(cv=5,\n",
       "             estimator=Pipeline(steps=[(&#x27;processor&#x27;,\n",
       "                                        ColumnTransformer(transformers=[(&#x27;pipe_num&#x27;,\n",
       "                                                                         MinMaxScaler(),\n",
       "                                                                         [&#x27;v2&#x27;,\n",
       "                                                                          &#x27;v4&#x27;,\n",
       "                                                                          &#x27;v5&#x27;,\n",
       "                                                                          &#x27;v6&#x27;,\n",
       "                                                                          &#x27;v7&#x27;,\n",
       "                                                                          &#x27;v8&#x27;])])),\n",
       "                                       (&#x27;rf&#x27;,\n",
       "                                        RandomForestRegressor(random_state=77))]),\n",
       "             param_grid={&#x27;rf__criterion&#x27;: [&#x27;squared_error&#x27;, &#x27;absolute_error&#x27;],\n",
       "                         &#x27;rf__max_depth&#x27;: [2, 3, 4],\n",
       "                         &#x27;rf__n_estimators&#x27;: [200, 250, 500, 700]},\n",
       "             verbose=1)</pre></div></div></div><div class=\"sk-parallel\"><div class=\"sk-parallel-item\"><div class=\"sk-item\"><div class=\"sk-label-container\"><div class=\"sk-label sk-toggleable\"><input class=\"sk-toggleable__control sk-hidden--visually\" id=\"sk-estimator-id-42\" type=\"checkbox\" ><label for=\"sk-estimator-id-42\" class=\"sk-toggleable__label sk-toggleable__label-arrow\">estimator: Pipeline</label><div class=\"sk-toggleable__content\"><pre>Pipeline(steps=[(&#x27;processor&#x27;,\n",
       "                 ColumnTransformer(transformers=[(&#x27;pipe_num&#x27;, MinMaxScaler(),\n",
       "                                                  [&#x27;v2&#x27;, &#x27;v4&#x27;, &#x27;v5&#x27;, &#x27;v6&#x27;, &#x27;v7&#x27;,\n",
       "                                                   &#x27;v8&#x27;])])),\n",
       "                (&#x27;rf&#x27;, RandomForestRegressor(random_state=77))])</pre></div></div></div><div class=\"sk-serial\"><div class=\"sk-item\"><div class=\"sk-serial\"><div class=\"sk-item sk-dashed-wrapped\"><div class=\"sk-label-container\"><div class=\"sk-label sk-toggleable\"><input class=\"sk-toggleable__control sk-hidden--visually\" id=\"sk-estimator-id-43\" type=\"checkbox\" ><label for=\"sk-estimator-id-43\" class=\"sk-toggleable__label sk-toggleable__label-arrow\">processor: ColumnTransformer</label><div class=\"sk-toggleable__content\"><pre>ColumnTransformer(transformers=[(&#x27;pipe_num&#x27;, MinMaxScaler(),\n",
       "                                 [&#x27;v2&#x27;, &#x27;v4&#x27;, &#x27;v5&#x27;, &#x27;v6&#x27;, &#x27;v7&#x27;, &#x27;v8&#x27;])])</pre></div></div></div><div class=\"sk-parallel\"><div class=\"sk-parallel-item\"><div class=\"sk-item\"><div class=\"sk-label-container\"><div class=\"sk-label sk-toggleable\"><input class=\"sk-toggleable__control sk-hidden--visually\" id=\"sk-estimator-id-44\" type=\"checkbox\" ><label for=\"sk-estimator-id-44\" class=\"sk-toggleable__label sk-toggleable__label-arrow\">pipe_num</label><div class=\"sk-toggleable__content\"><pre>[&#x27;v2&#x27;, &#x27;v4&#x27;, &#x27;v5&#x27;, &#x27;v6&#x27;, &#x27;v7&#x27;, &#x27;v8&#x27;]</pre></div></div></div><div class=\"sk-serial\"><div class=\"sk-item\"><div class=\"sk-estimator sk-toggleable\"><input class=\"sk-toggleable__control sk-hidden--visually\" id=\"sk-estimator-id-45\" type=\"checkbox\" ><label for=\"sk-estimator-id-45\" class=\"sk-toggleable__label sk-toggleable__label-arrow\">MinMaxScaler</label><div class=\"sk-toggleable__content\"><pre>MinMaxScaler()</pre></div></div></div></div></div></div></div></div><div class=\"sk-item\"><div class=\"sk-estimator sk-toggleable\"><input class=\"sk-toggleable__control sk-hidden--visually\" id=\"sk-estimator-id-46\" type=\"checkbox\" ><label for=\"sk-estimator-id-46\" class=\"sk-toggleable__label sk-toggleable__label-arrow\">RandomForestRegressor</label><div class=\"sk-toggleable__content\"><pre>RandomForestRegressor(random_state=77)</pre></div></div></div></div></div></div></div></div></div></div></div></div>"
      ],
      "text/plain": [
       "GridSearchCV(cv=5,\n",
       "             estimator=Pipeline(steps=[('processor',\n",
       "                                        ColumnTransformer(transformers=[('pipe_num',\n",
       "                                                                         MinMaxScaler(),\n",
       "                                                                         ['v2',\n",
       "                                                                          'v4',\n",
       "                                                                          'v5',\n",
       "                                                                          'v6',\n",
       "                                                                          'v7',\n",
       "                                                                          'v8'])])),\n",
       "                                       ('rf',\n",
       "                                        RandomForestRegressor(random_state=77))]),\n",
       "             param_grid={'rf__criterion': ['squared_error', 'absolute_error'],\n",
       "                         'rf__max_depth': [2, 3, 4],\n",
       "                         'rf__n_estimators': [200, 250, 500, 700]},\n",
       "             verbose=1)"
      ]
     },
     "execution_count": 45,
     "metadata": {},
     "output_type": "execute_result"
    }
   ],
   "source": [
    "# Tuning Process Random Forest\n",
    "\n",
    "rf_grid = GridSearchCV(estimator=pipeline_rf,\n",
    "                         param_grid=parameter_rf,\n",
    "                         cv=5,\n",
    "                         verbose=1\n",
    "                        )\n",
    "rf_grid.fit(X_train,y_train)"
   ]
  },
  {
   "cell_type": "code",
   "execution_count": 46,
   "metadata": {},
   "outputs": [],
   "source": [
    "# best parameter random forest\n",
    "rf_grid.best_params_\n",
    "\n",
    "# predict using best parameter\n",
    "rf_grid_best = rf_grid.best_estimator_\n",
    "\n",
    "rf_grid_best.fit(X_train, y_train)\n",
    "rf_pred_train_tune =rf_grid_best.predict(X_train)\n",
    "rf_pred_test_tune =rf_grid_best.predict(X_test)"
   ]
  },
  {
   "attachments": {},
   "cell_type": "markdown",
   "metadata": {},
   "source": [
    "## D. Gradient Boosting"
   ]
  },
  {
   "cell_type": "code",
   "execution_count": 47,
   "metadata": {},
   "outputs": [
    {
     "name": "stdout",
     "output_type": "stream",
     "text": [
      "Fitting 5 folds for each of 12 candidates, totalling 60 fits\n"
     ]
    },
    {
     "data": {
      "text/html": [
       "<style>#sk-container-id-10 {color: black;background-color: white;}#sk-container-id-10 pre{padding: 0;}#sk-container-id-10 div.sk-toggleable {background-color: white;}#sk-container-id-10 label.sk-toggleable__label {cursor: pointer;display: block;width: 100%;margin-bottom: 0;padding: 0.3em;box-sizing: border-box;text-align: center;}#sk-container-id-10 label.sk-toggleable__label-arrow:before {content: \"▸\";float: left;margin-right: 0.25em;color: #696969;}#sk-container-id-10 label.sk-toggleable__label-arrow:hover:before {color: black;}#sk-container-id-10 div.sk-estimator:hover label.sk-toggleable__label-arrow:before {color: black;}#sk-container-id-10 div.sk-toggleable__content {max-height: 0;max-width: 0;overflow: hidden;text-align: left;background-color: #f0f8ff;}#sk-container-id-10 div.sk-toggleable__content pre {margin: 0.2em;color: black;border-radius: 0.25em;background-color: #f0f8ff;}#sk-container-id-10 input.sk-toggleable__control:checked~div.sk-toggleable__content {max-height: 200px;max-width: 100%;overflow: auto;}#sk-container-id-10 input.sk-toggleable__control:checked~label.sk-toggleable__label-arrow:before {content: \"▾\";}#sk-container-id-10 div.sk-estimator input.sk-toggleable__control:checked~label.sk-toggleable__label {background-color: #d4ebff;}#sk-container-id-10 div.sk-label input.sk-toggleable__control:checked~label.sk-toggleable__label {background-color: #d4ebff;}#sk-container-id-10 input.sk-hidden--visually {border: 0;clip: rect(1px 1px 1px 1px);clip: rect(1px, 1px, 1px, 1px);height: 1px;margin: -1px;overflow: hidden;padding: 0;position: absolute;width: 1px;}#sk-container-id-10 div.sk-estimator {font-family: monospace;background-color: #f0f8ff;border: 1px dotted black;border-radius: 0.25em;box-sizing: border-box;margin-bottom: 0.5em;}#sk-container-id-10 div.sk-estimator:hover {background-color: #d4ebff;}#sk-container-id-10 div.sk-parallel-item::after {content: \"\";width: 100%;border-bottom: 1px solid gray;flex-grow: 1;}#sk-container-id-10 div.sk-label:hover label.sk-toggleable__label {background-color: #d4ebff;}#sk-container-id-10 div.sk-serial::before {content: \"\";position: absolute;border-left: 1px solid gray;box-sizing: border-box;top: 0;bottom: 0;left: 50%;z-index: 0;}#sk-container-id-10 div.sk-serial {display: flex;flex-direction: column;align-items: center;background-color: white;padding-right: 0.2em;padding-left: 0.2em;position: relative;}#sk-container-id-10 div.sk-item {position: relative;z-index: 1;}#sk-container-id-10 div.sk-parallel {display: flex;align-items: stretch;justify-content: center;background-color: white;position: relative;}#sk-container-id-10 div.sk-item::before, #sk-container-id-10 div.sk-parallel-item::before {content: \"\";position: absolute;border-left: 1px solid gray;box-sizing: border-box;top: 0;bottom: 0;left: 50%;z-index: -1;}#sk-container-id-10 div.sk-parallel-item {display: flex;flex-direction: column;z-index: 1;position: relative;background-color: white;}#sk-container-id-10 div.sk-parallel-item:first-child::after {align-self: flex-end;width: 50%;}#sk-container-id-10 div.sk-parallel-item:last-child::after {align-self: flex-start;width: 50%;}#sk-container-id-10 div.sk-parallel-item:only-child::after {width: 0;}#sk-container-id-10 div.sk-dashed-wrapped {border: 1px dashed gray;margin: 0 0.4em 0.5em 0.4em;box-sizing: border-box;padding-bottom: 0.4em;background-color: white;}#sk-container-id-10 div.sk-label label {font-family: monospace;font-weight: bold;display: inline-block;line-height: 1.2em;}#sk-container-id-10 div.sk-label-container {text-align: center;}#sk-container-id-10 div.sk-container {/* jupyter's `normalize.less` sets `[hidden] { display: none; }` but bootstrap.min.css set `[hidden] { display: none !important; }` so we also need the `!important` here to be able to override the default hidden behavior on the sphinx rendered scikit-learn.org. See: https://github.com/scikit-learn/scikit-learn/issues/21755 */display: inline-block !important;position: relative;}#sk-container-id-10 div.sk-text-repr-fallback {display: none;}</style><div id=\"sk-container-id-10\" class=\"sk-top-container\"><div class=\"sk-text-repr-fallback\"><pre>GridSearchCV(cv=5,\n",
       "             estimator=Pipeline(steps=[(&#x27;processor&#x27;,\n",
       "                                        ColumnTransformer(transformers=[(&#x27;pipe_num&#x27;,\n",
       "                                                                         MinMaxScaler(),\n",
       "                                                                         [&#x27;v2&#x27;,\n",
       "                                                                          &#x27;v4&#x27;,\n",
       "                                                                          &#x27;v5&#x27;,\n",
       "                                                                          &#x27;v6&#x27;,\n",
       "                                                                          &#x27;v7&#x27;,\n",
       "                                                                          &#x27;v8&#x27;])])),\n",
       "                                       (&#x27;gb&#x27;, GradientBoostingRegressor())]),\n",
       "             param_grid={&#x27;gb__learning_rate&#x27;: [0.1, 0.3, 0.4],\n",
       "                         &#x27;gb__n_estimators&#x27;: [200, 300, 500, 1000]},\n",
       "             verbose=1)</pre><b>In a Jupyter environment, please rerun this cell to show the HTML representation or trust the notebook. <br />On GitHub, the HTML representation is unable to render, please try loading this page with nbviewer.org.</b></div><div class=\"sk-container\" hidden><div class=\"sk-item sk-dashed-wrapped\"><div class=\"sk-label-container\"><div class=\"sk-label sk-toggleable\"><input class=\"sk-toggleable__control sk-hidden--visually\" id=\"sk-estimator-id-47\" type=\"checkbox\" ><label for=\"sk-estimator-id-47\" class=\"sk-toggleable__label sk-toggleable__label-arrow\">GridSearchCV</label><div class=\"sk-toggleable__content\"><pre>GridSearchCV(cv=5,\n",
       "             estimator=Pipeline(steps=[(&#x27;processor&#x27;,\n",
       "                                        ColumnTransformer(transformers=[(&#x27;pipe_num&#x27;,\n",
       "                                                                         MinMaxScaler(),\n",
       "                                                                         [&#x27;v2&#x27;,\n",
       "                                                                          &#x27;v4&#x27;,\n",
       "                                                                          &#x27;v5&#x27;,\n",
       "                                                                          &#x27;v6&#x27;,\n",
       "                                                                          &#x27;v7&#x27;,\n",
       "                                                                          &#x27;v8&#x27;])])),\n",
       "                                       (&#x27;gb&#x27;, GradientBoostingRegressor())]),\n",
       "             param_grid={&#x27;gb__learning_rate&#x27;: [0.1, 0.3, 0.4],\n",
       "                         &#x27;gb__n_estimators&#x27;: [200, 300, 500, 1000]},\n",
       "             verbose=1)</pre></div></div></div><div class=\"sk-parallel\"><div class=\"sk-parallel-item\"><div class=\"sk-item\"><div class=\"sk-label-container\"><div class=\"sk-label sk-toggleable\"><input class=\"sk-toggleable__control sk-hidden--visually\" id=\"sk-estimator-id-48\" type=\"checkbox\" ><label for=\"sk-estimator-id-48\" class=\"sk-toggleable__label sk-toggleable__label-arrow\">estimator: Pipeline</label><div class=\"sk-toggleable__content\"><pre>Pipeline(steps=[(&#x27;processor&#x27;,\n",
       "                 ColumnTransformer(transformers=[(&#x27;pipe_num&#x27;, MinMaxScaler(),\n",
       "                                                  [&#x27;v2&#x27;, &#x27;v4&#x27;, &#x27;v5&#x27;, &#x27;v6&#x27;, &#x27;v7&#x27;,\n",
       "                                                   &#x27;v8&#x27;])])),\n",
       "                (&#x27;gb&#x27;, GradientBoostingRegressor())])</pre></div></div></div><div class=\"sk-serial\"><div class=\"sk-item\"><div class=\"sk-serial\"><div class=\"sk-item sk-dashed-wrapped\"><div class=\"sk-label-container\"><div class=\"sk-label sk-toggleable\"><input class=\"sk-toggleable__control sk-hidden--visually\" id=\"sk-estimator-id-49\" type=\"checkbox\" ><label for=\"sk-estimator-id-49\" class=\"sk-toggleable__label sk-toggleable__label-arrow\">processor: ColumnTransformer</label><div class=\"sk-toggleable__content\"><pre>ColumnTransformer(transformers=[(&#x27;pipe_num&#x27;, MinMaxScaler(),\n",
       "                                 [&#x27;v2&#x27;, &#x27;v4&#x27;, &#x27;v5&#x27;, &#x27;v6&#x27;, &#x27;v7&#x27;, &#x27;v8&#x27;])])</pre></div></div></div><div class=\"sk-parallel\"><div class=\"sk-parallel-item\"><div class=\"sk-item\"><div class=\"sk-label-container\"><div class=\"sk-label sk-toggleable\"><input class=\"sk-toggleable__control sk-hidden--visually\" id=\"sk-estimator-id-50\" type=\"checkbox\" ><label for=\"sk-estimator-id-50\" class=\"sk-toggleable__label sk-toggleable__label-arrow\">pipe_num</label><div class=\"sk-toggleable__content\"><pre>[&#x27;v2&#x27;, &#x27;v4&#x27;, &#x27;v5&#x27;, &#x27;v6&#x27;, &#x27;v7&#x27;, &#x27;v8&#x27;]</pre></div></div></div><div class=\"sk-serial\"><div class=\"sk-item\"><div class=\"sk-estimator sk-toggleable\"><input class=\"sk-toggleable__control sk-hidden--visually\" id=\"sk-estimator-id-51\" type=\"checkbox\" ><label for=\"sk-estimator-id-51\" class=\"sk-toggleable__label sk-toggleable__label-arrow\">MinMaxScaler</label><div class=\"sk-toggleable__content\"><pre>MinMaxScaler()</pre></div></div></div></div></div></div></div></div><div class=\"sk-item\"><div class=\"sk-estimator sk-toggleable\"><input class=\"sk-toggleable__control sk-hidden--visually\" id=\"sk-estimator-id-52\" type=\"checkbox\" ><label for=\"sk-estimator-id-52\" class=\"sk-toggleable__label sk-toggleable__label-arrow\">GradientBoostingRegressor</label><div class=\"sk-toggleable__content\"><pre>GradientBoostingRegressor()</pre></div></div></div></div></div></div></div></div></div></div></div></div>"
      ],
      "text/plain": [
       "GridSearchCV(cv=5,\n",
       "             estimator=Pipeline(steps=[('processor',\n",
       "                                        ColumnTransformer(transformers=[('pipe_num',\n",
       "                                                                         MinMaxScaler(),\n",
       "                                                                         ['v2',\n",
       "                                                                          'v4',\n",
       "                                                                          'v5',\n",
       "                                                                          'v6',\n",
       "                                                                          'v7',\n",
       "                                                                          'v8'])])),\n",
       "                                       ('gb', GradientBoostingRegressor())]),\n",
       "             param_grid={'gb__learning_rate': [0.1, 0.3, 0.4],\n",
       "                         'gb__n_estimators': [200, 300, 500, 1000]},\n",
       "             verbose=1)"
      ]
     },
     "execution_count": 47,
     "metadata": {},
     "output_type": "execute_result"
    }
   ],
   "source": [
    "# tuning parameter gradient boosting\n",
    "gb_grid = GridSearchCV(estimator=pipeline_gb,\n",
    "                         param_grid=parameter_gb,\n",
    "                         cv=5,\n",
    "                         verbose=1\n",
    "                        )\n",
    "gb_grid.fit(X_train,y_train)"
   ]
  },
  {
   "cell_type": "code",
   "execution_count": 48,
   "metadata": {},
   "outputs": [],
   "source": [
    "# best parameter gradient boosting\n",
    "gb_grid.best_params_\n",
    "\n",
    "# predict using best parameter \n",
    "gb_grid_best = gb_grid.best_estimator_\n",
    "\n",
    "gb_grid_best.fit(X_train,y_train)\n",
    "gb_pred_train_tune = gb_grid_best.predict(X_train)\n",
    "gb_pred_test_tune = gb_grid_best.predict(X_test)"
   ]
  },
  {
   "attachments": {},
   "cell_type": "markdown",
   "metadata": {},
   "source": [
    "## E. KNN"
   ]
  },
  {
   "cell_type": "code",
   "execution_count": 49,
   "metadata": {},
   "outputs": [
    {
     "name": "stdout",
     "output_type": "stream",
     "text": [
      "Fitting 5 folds for each of 4 candidates, totalling 20 fits\n"
     ]
    },
    {
     "data": {
      "text/html": [
       "<style>#sk-container-id-11 {color: black;background-color: white;}#sk-container-id-11 pre{padding: 0;}#sk-container-id-11 div.sk-toggleable {background-color: white;}#sk-container-id-11 label.sk-toggleable__label {cursor: pointer;display: block;width: 100%;margin-bottom: 0;padding: 0.3em;box-sizing: border-box;text-align: center;}#sk-container-id-11 label.sk-toggleable__label-arrow:before {content: \"▸\";float: left;margin-right: 0.25em;color: #696969;}#sk-container-id-11 label.sk-toggleable__label-arrow:hover:before {color: black;}#sk-container-id-11 div.sk-estimator:hover label.sk-toggleable__label-arrow:before {color: black;}#sk-container-id-11 div.sk-toggleable__content {max-height: 0;max-width: 0;overflow: hidden;text-align: left;background-color: #f0f8ff;}#sk-container-id-11 div.sk-toggleable__content pre {margin: 0.2em;color: black;border-radius: 0.25em;background-color: #f0f8ff;}#sk-container-id-11 input.sk-toggleable__control:checked~div.sk-toggleable__content {max-height: 200px;max-width: 100%;overflow: auto;}#sk-container-id-11 input.sk-toggleable__control:checked~label.sk-toggleable__label-arrow:before {content: \"▾\";}#sk-container-id-11 div.sk-estimator input.sk-toggleable__control:checked~label.sk-toggleable__label {background-color: #d4ebff;}#sk-container-id-11 div.sk-label input.sk-toggleable__control:checked~label.sk-toggleable__label {background-color: #d4ebff;}#sk-container-id-11 input.sk-hidden--visually {border: 0;clip: rect(1px 1px 1px 1px);clip: rect(1px, 1px, 1px, 1px);height: 1px;margin: -1px;overflow: hidden;padding: 0;position: absolute;width: 1px;}#sk-container-id-11 div.sk-estimator {font-family: monospace;background-color: #f0f8ff;border: 1px dotted black;border-radius: 0.25em;box-sizing: border-box;margin-bottom: 0.5em;}#sk-container-id-11 div.sk-estimator:hover {background-color: #d4ebff;}#sk-container-id-11 div.sk-parallel-item::after {content: \"\";width: 100%;border-bottom: 1px solid gray;flex-grow: 1;}#sk-container-id-11 div.sk-label:hover label.sk-toggleable__label {background-color: #d4ebff;}#sk-container-id-11 div.sk-serial::before {content: \"\";position: absolute;border-left: 1px solid gray;box-sizing: border-box;top: 0;bottom: 0;left: 50%;z-index: 0;}#sk-container-id-11 div.sk-serial {display: flex;flex-direction: column;align-items: center;background-color: white;padding-right: 0.2em;padding-left: 0.2em;position: relative;}#sk-container-id-11 div.sk-item {position: relative;z-index: 1;}#sk-container-id-11 div.sk-parallel {display: flex;align-items: stretch;justify-content: center;background-color: white;position: relative;}#sk-container-id-11 div.sk-item::before, #sk-container-id-11 div.sk-parallel-item::before {content: \"\";position: absolute;border-left: 1px solid gray;box-sizing: border-box;top: 0;bottom: 0;left: 50%;z-index: -1;}#sk-container-id-11 div.sk-parallel-item {display: flex;flex-direction: column;z-index: 1;position: relative;background-color: white;}#sk-container-id-11 div.sk-parallel-item:first-child::after {align-self: flex-end;width: 50%;}#sk-container-id-11 div.sk-parallel-item:last-child::after {align-self: flex-start;width: 50%;}#sk-container-id-11 div.sk-parallel-item:only-child::after {width: 0;}#sk-container-id-11 div.sk-dashed-wrapped {border: 1px dashed gray;margin: 0 0.4em 0.5em 0.4em;box-sizing: border-box;padding-bottom: 0.4em;background-color: white;}#sk-container-id-11 div.sk-label label {font-family: monospace;font-weight: bold;display: inline-block;line-height: 1.2em;}#sk-container-id-11 div.sk-label-container {text-align: center;}#sk-container-id-11 div.sk-container {/* jupyter's `normalize.less` sets `[hidden] { display: none; }` but bootstrap.min.css set `[hidden] { display: none !important; }` so we also need the `!important` here to be able to override the default hidden behavior on the sphinx rendered scikit-learn.org. See: https://github.com/scikit-learn/scikit-learn/issues/21755 */display: inline-block !important;position: relative;}#sk-container-id-11 div.sk-text-repr-fallback {display: none;}</style><div id=\"sk-container-id-11\" class=\"sk-top-container\"><div class=\"sk-text-repr-fallback\"><pre>GridSearchCV(cv=5,\n",
       "             estimator=Pipeline(steps=[(&#x27;processor&#x27;,\n",
       "                                        ColumnTransformer(transformers=[(&#x27;pipe_num&#x27;,\n",
       "                                                                         MinMaxScaler(),\n",
       "                                                                         [&#x27;v2&#x27;,\n",
       "                                                                          &#x27;v4&#x27;,\n",
       "                                                                          &#x27;v5&#x27;,\n",
       "                                                                          &#x27;v6&#x27;,\n",
       "                                                                          &#x27;v7&#x27;,\n",
       "                                                                          &#x27;v8&#x27;])])),\n",
       "                                       (&#x27;knn&#x27;, KNeighborsRegressor())]),\n",
       "             param_grid={&#x27;knn__leaf_size&#x27;: [30, 45],\n",
       "                         &#x27;knn__n_neighbors&#x27;: [3, 4]},\n",
       "             verbose=1)</pre><b>In a Jupyter environment, please rerun this cell to show the HTML representation or trust the notebook. <br />On GitHub, the HTML representation is unable to render, please try loading this page with nbviewer.org.</b></div><div class=\"sk-container\" hidden><div class=\"sk-item sk-dashed-wrapped\"><div class=\"sk-label-container\"><div class=\"sk-label sk-toggleable\"><input class=\"sk-toggleable__control sk-hidden--visually\" id=\"sk-estimator-id-53\" type=\"checkbox\" ><label for=\"sk-estimator-id-53\" class=\"sk-toggleable__label sk-toggleable__label-arrow\">GridSearchCV</label><div class=\"sk-toggleable__content\"><pre>GridSearchCV(cv=5,\n",
       "             estimator=Pipeline(steps=[(&#x27;processor&#x27;,\n",
       "                                        ColumnTransformer(transformers=[(&#x27;pipe_num&#x27;,\n",
       "                                                                         MinMaxScaler(),\n",
       "                                                                         [&#x27;v2&#x27;,\n",
       "                                                                          &#x27;v4&#x27;,\n",
       "                                                                          &#x27;v5&#x27;,\n",
       "                                                                          &#x27;v6&#x27;,\n",
       "                                                                          &#x27;v7&#x27;,\n",
       "                                                                          &#x27;v8&#x27;])])),\n",
       "                                       (&#x27;knn&#x27;, KNeighborsRegressor())]),\n",
       "             param_grid={&#x27;knn__leaf_size&#x27;: [30, 45],\n",
       "                         &#x27;knn__n_neighbors&#x27;: [3, 4]},\n",
       "             verbose=1)</pre></div></div></div><div class=\"sk-parallel\"><div class=\"sk-parallel-item\"><div class=\"sk-item\"><div class=\"sk-label-container\"><div class=\"sk-label sk-toggleable\"><input class=\"sk-toggleable__control sk-hidden--visually\" id=\"sk-estimator-id-54\" type=\"checkbox\" ><label for=\"sk-estimator-id-54\" class=\"sk-toggleable__label sk-toggleable__label-arrow\">estimator: Pipeline</label><div class=\"sk-toggleable__content\"><pre>Pipeline(steps=[(&#x27;processor&#x27;,\n",
       "                 ColumnTransformer(transformers=[(&#x27;pipe_num&#x27;, MinMaxScaler(),\n",
       "                                                  [&#x27;v2&#x27;, &#x27;v4&#x27;, &#x27;v5&#x27;, &#x27;v6&#x27;, &#x27;v7&#x27;,\n",
       "                                                   &#x27;v8&#x27;])])),\n",
       "                (&#x27;knn&#x27;, KNeighborsRegressor())])</pre></div></div></div><div class=\"sk-serial\"><div class=\"sk-item\"><div class=\"sk-serial\"><div class=\"sk-item sk-dashed-wrapped\"><div class=\"sk-label-container\"><div class=\"sk-label sk-toggleable\"><input class=\"sk-toggleable__control sk-hidden--visually\" id=\"sk-estimator-id-55\" type=\"checkbox\" ><label for=\"sk-estimator-id-55\" class=\"sk-toggleable__label sk-toggleable__label-arrow\">processor: ColumnTransformer</label><div class=\"sk-toggleable__content\"><pre>ColumnTransformer(transformers=[(&#x27;pipe_num&#x27;, MinMaxScaler(),\n",
       "                                 [&#x27;v2&#x27;, &#x27;v4&#x27;, &#x27;v5&#x27;, &#x27;v6&#x27;, &#x27;v7&#x27;, &#x27;v8&#x27;])])</pre></div></div></div><div class=\"sk-parallel\"><div class=\"sk-parallel-item\"><div class=\"sk-item\"><div class=\"sk-label-container\"><div class=\"sk-label sk-toggleable\"><input class=\"sk-toggleable__control sk-hidden--visually\" id=\"sk-estimator-id-56\" type=\"checkbox\" ><label for=\"sk-estimator-id-56\" class=\"sk-toggleable__label sk-toggleable__label-arrow\">pipe_num</label><div class=\"sk-toggleable__content\"><pre>[&#x27;v2&#x27;, &#x27;v4&#x27;, &#x27;v5&#x27;, &#x27;v6&#x27;, &#x27;v7&#x27;, &#x27;v8&#x27;]</pre></div></div></div><div class=\"sk-serial\"><div class=\"sk-item\"><div class=\"sk-estimator sk-toggleable\"><input class=\"sk-toggleable__control sk-hidden--visually\" id=\"sk-estimator-id-57\" type=\"checkbox\" ><label for=\"sk-estimator-id-57\" class=\"sk-toggleable__label sk-toggleable__label-arrow\">MinMaxScaler</label><div class=\"sk-toggleable__content\"><pre>MinMaxScaler()</pre></div></div></div></div></div></div></div></div><div class=\"sk-item\"><div class=\"sk-estimator sk-toggleable\"><input class=\"sk-toggleable__control sk-hidden--visually\" id=\"sk-estimator-id-58\" type=\"checkbox\" ><label for=\"sk-estimator-id-58\" class=\"sk-toggleable__label sk-toggleable__label-arrow\">KNeighborsRegressor</label><div class=\"sk-toggleable__content\"><pre>KNeighborsRegressor()</pre></div></div></div></div></div></div></div></div></div></div></div></div>"
      ],
      "text/plain": [
       "GridSearchCV(cv=5,\n",
       "             estimator=Pipeline(steps=[('processor',\n",
       "                                        ColumnTransformer(transformers=[('pipe_num',\n",
       "                                                                         MinMaxScaler(),\n",
       "                                                                         ['v2',\n",
       "                                                                          'v4',\n",
       "                                                                          'v5',\n",
       "                                                                          'v6',\n",
       "                                                                          'v7',\n",
       "                                                                          'v8'])])),\n",
       "                                       ('knn', KNeighborsRegressor())]),\n",
       "             param_grid={'knn__leaf_size': [30, 45],\n",
       "                         'knn__n_neighbors': [3, 4]},\n",
       "             verbose=1)"
      ]
     },
     "execution_count": 49,
     "metadata": {},
     "output_type": "execute_result"
    }
   ],
   "source": [
    "# tuning parameter Knneighbors regresor\n",
    "knn_grid = GridSearchCV(estimator=pipeline_knn,\n",
    "                         param_grid=parameter_knn,\n",
    "                         cv=5,\n",
    "                         verbose=1\n",
    "                        )\n",
    "knn_grid.fit(X_train,y_train)"
   ]
  },
  {
   "cell_type": "code",
   "execution_count": 50,
   "metadata": {},
   "outputs": [],
   "source": [
    "# Kneighbors best parameter\n",
    "knn_grid.best_params_\n",
    "\n",
    "# predict using best parameter\n",
    "knn_grid_best = knn_grid.best_estimator_\n",
    "\n",
    "knn_grid_best.fit(X_train,y_train)\n",
    "knn_pred_train_tune = knn_grid_best.predict(X_train)\n",
    "knn_pred_test_tune = knn_grid_best.predict(X_test)"
   ]
  },
  {
   "attachments": {},
   "cell_type": "markdown",
   "metadata": {},
   "source": [
    "## Metrics Score tuning"
   ]
  },
  {
   "cell_type": "code",
   "execution_count": 51,
   "metadata": {},
   "outputs": [],
   "source": [
    "# Scoring to data frame\n",
    "all_reports= {}\n",
    "\n",
    "# MAE\n",
    "score2 = {\n",
    "        'Linear Regression -Trein'   : round(mean_absolute_error(lr_pred_train_tune,y_train), 4),\n",
    "        'Linear Regression -Test'    : round(mean_absolute_error(lr_pred_test_tune, y_test), 4),\n",
    "        'SVM Regressor - Train'      : round(mean_absolute_error(svm_pred_train_tune,y_train), 4),\n",
    "        'SVM Regressor - Test'       : round(mean_absolute_error(svm_pred_test_tune, y_test), 4),\n",
    "        'Random Forest -Train'       : round(mean_absolute_error(rf_pred_train_tune,y_train),4),\n",
    "        'Random Forest -Test'        : round(mean_absolute_error(rf_pred_test_tune,y_test),4),\n",
    "        'GradientBoosting -Train'    : round(mean_absolute_error(gb_pred_train_tune,y_train),4),\n",
    "        'GradientBoosting -Test'     : round(mean_absolute_error(gb_pred_test_tune,y_test),4),\n",
    "        'KNeighborsRegressor -Train' : round(mean_absolute_error(knn_pred_train_tune,y_train ),4),\n",
    "        'KNeighborsRegressor -Test' : round(mean_absolute_error(knn_pred_test_tune,y_test ),4)\n",
    "}\n",
    "all_reports['MAE'] = score2\n",
    "\n",
    "tune_a = pd.DataFrame(all_reports)"
   ]
  },
  {
   "cell_type": "code",
   "execution_count": 52,
   "metadata": {},
   "outputs": [],
   "source": [
    "# RMSE\n",
    "score3= {\n",
    "        'Linear Regression -Trein'   : round(np.sqrt(mean_squared_error(lr_pred_train_tune,y_train)), 4),\n",
    "        'Linear Regression -Test'    : round(np.sqrt(mean_squared_error(lr_pred_test_tune, y_test)), 4),\n",
    "        'SVM Regressor - Train'      : round(np.sqrt(mean_squared_error(svm_pred_train_tune,y_train)), 4),\n",
    "        'SVM Regressor - Test'       : round(np.sqrt(mean_squared_error(svm_pred_test_tune, y_test)), 4),\n",
    "        'Random Forest -Train'       : round(np.sqrt(mean_squared_error(rf_pred_train_tune,y_train)),4),\n",
    "        'Random Forest -Test'        : round(np.sqrt(mean_squared_error(rf_pred_test_tune,y_test)),4),\n",
    "        'GradientBoosting -Train'    : round(np.sqrt(mean_squared_error(gb_pred_train_tune,y_train)),4),\n",
    "        'GradientBoosting -Test'     : round(np.sqrt(mean_squared_error(gb_pred_test_tune,y_test)),4),\n",
    "        'KNeighborsRegressor -Train' : round(np.sqrt(mean_squared_error(knn_pred_train_tune,y_train )),4),\n",
    "        'KNeighborsRegressor -Test' : round(np.sqrt(mean_squared_error(knn_pred_test_tune,y_test )),4)\n",
    "}\n",
    "all_reports['RMSE'] = score3\n",
    "\n",
    "tune_b = pd.DataFrame(all_reports)\n"
   ]
  },
  {
   "cell_type": "code",
   "execution_count": 53,
   "metadata": {},
   "outputs": [
    {
     "data": {
      "text/html": [
       "<div>\n",
       "<style scoped>\n",
       "    .dataframe tbody tr th:only-of-type {\n",
       "        vertical-align: middle;\n",
       "    }\n",
       "\n",
       "    .dataframe tbody tr th {\n",
       "        vertical-align: top;\n",
       "    }\n",
       "\n",
       "    .dataframe thead th {\n",
       "        text-align: right;\n",
       "    }\n",
       "</style>\n",
       "<table border=\"1\" class=\"dataframe\">\n",
       "  <thead>\n",
       "    <tr style=\"text-align: right;\">\n",
       "      <th></th>\n",
       "      <th>MAE</th>\n",
       "      <th>RMSE</th>\n",
       "      <th>MSE</th>\n",
       "    </tr>\n",
       "  </thead>\n",
       "  <tbody>\n",
       "    <tr>\n",
       "      <th>Linear Regression -Trein</th>\n",
       "      <td>0.1520</td>\n",
       "      <td>0.1853</td>\n",
       "      <td>0.0344</td>\n",
       "    </tr>\n",
       "    <tr>\n",
       "      <th>Linear Regression -Test</th>\n",
       "      <td>0.1627</td>\n",
       "      <td>0.1966</td>\n",
       "      <td>0.0387</td>\n",
       "    </tr>\n",
       "    <tr>\n",
       "      <th>SVM Regressor - Train</th>\n",
       "      <td>0.1353</td>\n",
       "      <td>0.1640</td>\n",
       "      <td>0.0269</td>\n",
       "    </tr>\n",
       "    <tr>\n",
       "      <th>SVM Regressor - Test</th>\n",
       "      <td>0.1596</td>\n",
       "      <td>0.1816</td>\n",
       "      <td>0.0330</td>\n",
       "    </tr>\n",
       "    <tr>\n",
       "      <th>Random Forest -Train</th>\n",
       "      <td>0.1332</td>\n",
       "      <td>0.1658</td>\n",
       "      <td>0.0275</td>\n",
       "    </tr>\n",
       "    <tr>\n",
       "      <th>Random Forest -Test</th>\n",
       "      <td>0.1614</td>\n",
       "      <td>0.1944</td>\n",
       "      <td>0.0378</td>\n",
       "    </tr>\n",
       "    <tr>\n",
       "      <th>GradientBoosting -Train</th>\n",
       "      <td>0.0000</td>\n",
       "      <td>0.0000</td>\n",
       "      <td>0.0000</td>\n",
       "    </tr>\n",
       "    <tr>\n",
       "      <th>GradientBoosting -Test</th>\n",
       "      <td>0.1616</td>\n",
       "      <td>0.1928</td>\n",
       "      <td>0.0372</td>\n",
       "    </tr>\n",
       "    <tr>\n",
       "      <th>KNeighborsRegressor -Train</th>\n",
       "      <td>0.1220</td>\n",
       "      <td>0.1558</td>\n",
       "      <td>0.0243</td>\n",
       "    </tr>\n",
       "    <tr>\n",
       "      <th>KNeighborsRegressor -Test</th>\n",
       "      <td>0.1771</td>\n",
       "      <td>0.2103</td>\n",
       "      <td>0.0442</td>\n",
       "    </tr>\n",
       "  </tbody>\n",
       "</table>\n",
       "</div>"
      ],
      "text/plain": [
       "                               MAE    RMSE     MSE\n",
       "Linear Regression -Trein    0.1520  0.1853  0.0344\n",
       "Linear Regression -Test     0.1627  0.1966  0.0387\n",
       "SVM Regressor - Train       0.1353  0.1640  0.0269\n",
       "SVM Regressor - Test        0.1596  0.1816  0.0330\n",
       "Random Forest -Train        0.1332  0.1658  0.0275\n",
       "Random Forest -Test         0.1614  0.1944  0.0378\n",
       "GradientBoosting -Train     0.0000  0.0000  0.0000\n",
       "GradientBoosting -Test      0.1616  0.1928  0.0372\n",
       "KNeighborsRegressor -Train  0.1220  0.1558  0.0243\n",
       "KNeighborsRegressor -Test   0.1771  0.2103  0.0442"
      ]
     },
     "execution_count": 53,
     "metadata": {},
     "output_type": "execute_result"
    }
   ],
   "source": [
    "# MSE\n",
    "score4= {\n",
    "        'Linear Regression -Trein'   : round(mean_squared_error(lr_pred_train_tune,y_train), 4),\n",
    "        'Linear Regression -Test'    : round(mean_squared_error(lr_pred_test_tune, y_test), 4),\n",
    "        'SVM Regressor - Train'      : round(mean_squared_error(svm_pred_train_tune,y_train), 4),\n",
    "        'SVM Regressor - Test'       : round(mean_squared_error(svm_pred_test_tune, y_test), 4),\n",
    "        'Random Forest -Train'       : round(mean_squared_error(rf_pred_train_tune,y_train),4),\n",
    "        'Random Forest -Test'        : round(mean_squared_error(rf_pred_test_tune,y_test),4),\n",
    "        'GradientBoosting -Train'    : round(mean_squared_error(gb_pred_train_tune,y_train),4),\n",
    "        'GradientBoosting -Test'     : round(mean_squared_error(gb_pred_test_tune,y_test),4),\n",
    "        'KNeighborsRegressor -Train' : round(mean_squared_error(knn_pred_train_tune,y_train ),4),\n",
    "        'KNeighborsRegressor -Test' : round(mean_squared_error(knn_pred_test_tune,y_test ),4)\n",
    "}\n",
    "all_reports['MSE'] = score4\n",
    "\n",
    "tune_c = pd.DataFrame(all_reports)\n",
    "tune_c"
   ]
  },
  {
   "cell_type": "code",
   "execution_count": 54,
   "metadata": {},
   "outputs": [
    {
     "name": "stderr",
     "output_type": "stream",
     "text": [
      "C:\\Users\\Muhammad Julizar\\AppData\\Local\\Temp\\ipykernel_22524\\4109075596.py:5: MatplotlibDeprecationWarning: Auto-removal of overlapping axes is deprecated since 3.6 and will be removed two minor releases later; explicitly call ax.remove() as needed.\n",
      "  plt.subplot(3,2,1)\n"
     ]
    },
    {
     "data": {
      "text/plain": [
       "Text(0.5, 1.0, 'Mean Absolute Erorr')"
      ]
     },
     "execution_count": 54,
     "metadata": {},
     "output_type": "execute_result"
    },
    {
     "data": {
      "image/png": "[encoded data removed]",
      "text/plain": [
       "<Figure size 3000x2000 with 6 Axes>"
      ]
     },
     "metadata": {},
     "output_type": "display_data"
    }
   ],
   "source": [
    "# plotting r2 score evaluation \n",
    "plt.subplots(figsize=(30,20))\n",
    "\n",
    "\n",
    "plt.subplot(3,2,1)\n",
    "sns.barplot(data=c, y=c['MAE'].index,x=c['MAE'].values)\n",
    "plt.title('Mean Absolute Erorr',fontsize=25)\n",
    "\n",
    "\n",
    "plt.subplot(3,2,2)\n",
    "sns.barplot(data=tune_c, y=c['MAE'].index,x=c['MAE'].values)\n",
    "plt.title('Mean Absolute Erorr', fontsize=25)\n",
    "\n",
    "plt.subplot(3,2,3)\n",
    "sns.barplot(data=c, y=c['MSE'].index,x=c['MSE'].values)\n",
    "plt.title('Mean Absolute Erorr', fontsize=25)\n",
    "\n",
    "plt.subplot(3,2,4)\n",
    "sns.barplot(data=tune_c, y=c['MSE'].index,x=c['MSE'].values)\n",
    "plt.title('Mean Absolute Erorr', fontsize=25)\n",
    "\n",
    "plt.subplot(3,2,5)\n",
    "sns.barplot(data=c, y=c['RMSE'].index,x=c['RMSE'].values)\n",
    "plt.title('Mean Absolute Erorr', fontsize=25)\n",
    "\n",
    "plt.subplot(3,2,6)\n",
    "sns.barplot(data=tune_c, y=c['RMSE'].index,x=c['RMSE'].values)\n",
    "plt.title('Mean Absolute Erorr', fontsize=25)\n"
   ]
  },
  {
   "attachments": {},
   "cell_type": "markdown",
   "metadata": {},
   "source": [
    "Jika dilihat dari berbagai nilai erorr diatas, algoritma Gradient Boosting memiliki nilai erorr paling kecil sehingga saya memutuskan utk memilih algoritma `Gradient Boosting` yang menjadi algoritma terbaik"
   ]
  },
  {
   "attachments": {},
   "cell_type": "markdown",
   "metadata": {},
   "source": [
    "# 11. Model Saving"
   ]
  },
  {
   "attachments": {},
   "cell_type": "markdown",
   "metadata": {},
   "source": [
    "## Save Model"
   ]
  },
  {
   "cell_type": "code",
   "execution_count": 55,
   "metadata": {},
   "outputs": [],
   "source": [
    "with open('gb_grid_best.pkl', 'wb') as file_1:\n",
    "  joblib.dump(gb_grid_best, file_1)\n",
    "\n",
    "with open('numerical_features.txt', 'w') as file_2:\n",
    "  json.dump(num_columns, file_2)"
   ]
  },
  {
   "attachments": {},
   "cell_type": "markdown",
   "metadata": {},
   "source": [
    "## Load Model"
   ]
  },
  {
   "cell_type": "code",
   "execution_count": 56,
   "metadata": {},
   "outputs": [],
   "source": [
    "with open('gb_grid_best.pkl', 'rb') as file_1:\n",
    "  gb_grid_best = joblib.load(file_1)\n",
    "\n",
    "with open('numerical_features.txt', 'r') as file_2:\n",
    "  numerical_features = json.load(file_2)"
   ]
  },
  {
   "attachments": {},
   "cell_type": "markdown",
   "metadata": {},
   "source": [
    "# 12. Model Inference"
   ]
  },
  {
   "cell_type": "code",
   "execution_count": 57,
   "metadata": {},
   "outputs": [],
   "source": [
    "# Menampilkan data inference\n",
    "df_inf.head()\n",
    "df_inf.reset_index(drop=True, inplace=True)"
   ]
  },
  {
   "cell_type": "code",
   "execution_count": 58,
   "metadata": {},
   "outputs": [],
   "source": [
    "# menentukan feature dan terget pada data inference\n",
    "X_inf = df_inf.drop(columns={'target'})\n",
    "y_inf = df_inf['target']\n",
    "y_inf.reset_index(drop=True, inplace=True)"
   ]
  },
  {
   "cell_type": "code",
   "execution_count": 59,
   "metadata": {},
   "outputs": [],
   "source": [
    "pred_inf = gb_grid_best.predict(df_inf)"
   ]
  },
  {
   "cell_type": "code",
   "execution_count": 60,
   "metadata": {},
   "outputs": [
    {
     "data": {
      "text/html": [
       "<div>\n",
       "<style scoped>\n",
       "    .dataframe tbody tr th:only-of-type {\n",
       "        vertical-align: middle;\n",
       "    }\n",
       "\n",
       "    .dataframe tbody tr th {\n",
       "        vertical-align: top;\n",
       "    }\n",
       "\n",
       "    .dataframe thead th {\n",
       "        text-align: right;\n",
       "    }\n",
       "</style>\n",
       "<table border=\"1\" class=\"dataframe\">\n",
       "  <thead>\n",
       "    <tr style=\"text-align: right;\">\n",
       "      <th></th>\n",
       "      <th>target</th>\n",
       "      <th>target - prediction</th>\n",
       "    </tr>\n",
       "  </thead>\n",
       "  <tbody>\n",
       "    <tr>\n",
       "      <th>0</th>\n",
       "      <td>4.77</td>\n",
       "      <td>4.744804</td>\n",
       "    </tr>\n",
       "    <tr>\n",
       "      <th>1</th>\n",
       "      <td>4.67</td>\n",
       "      <td>4.807765</td>\n",
       "    </tr>\n",
       "    <tr>\n",
       "      <th>2</th>\n",
       "      <td>4.62</td>\n",
       "      <td>4.589200</td>\n",
       "    </tr>\n",
       "    <tr>\n",
       "      <th>3</th>\n",
       "      <td>4.64</td>\n",
       "      <td>4.583843</td>\n",
       "    </tr>\n",
       "    <tr>\n",
       "      <th>4</th>\n",
       "      <td>4.66</td>\n",
       "      <td>4.682545</td>\n",
       "    </tr>\n",
       "    <tr>\n",
       "      <th>5</th>\n",
       "      <td>4.77</td>\n",
       "      <td>4.377454</td>\n",
       "    </tr>\n",
       "    <tr>\n",
       "      <th>6</th>\n",
       "      <td>4.76</td>\n",
       "      <td>4.750339</td>\n",
       "    </tr>\n",
       "    <tr>\n",
       "      <th>7</th>\n",
       "      <td>5.03</td>\n",
       "      <td>5.003763</td>\n",
       "    </tr>\n",
       "    <tr>\n",
       "      <th>8</th>\n",
       "      <td>4.48</td>\n",
       "      <td>4.753269</td>\n",
       "    </tr>\n",
       "    <tr>\n",
       "      <th>9</th>\n",
       "      <td>4.98</td>\n",
       "      <td>4.909067</td>\n",
       "    </tr>\n",
       "  </tbody>\n",
       "</table>\n",
       "</div>"
      ],
      "text/plain": [
       "   target  target - prediction\n",
       "0    4.77             4.744804\n",
       "1    4.67             4.807765\n",
       "2    4.62             4.589200\n",
       "3    4.64             4.583843\n",
       "4    4.66             4.682545\n",
       "5    4.77             4.377454\n",
       "6    4.76             4.750339\n",
       "7    5.03             5.003763\n",
       "8    4.48             4.753269\n",
       "9    4.98             4.909067"
      ]
     },
     "execution_count": 60,
     "metadata": {},
     "output_type": "execute_result"
    }
   ],
   "source": [
    "pred_inf_df = pd.DataFrame(pred_inf, columns=['target - prediction'])\n",
    "\n",
    "# membandingkan hasil prediksi dengan data aktual\n",
    "pred_inf_df= pd.concat([df_inf['target'],pred_inf_df], axis=1)\n",
    "pred_inf_df"
   ]
  },
  {
   "attachments": {},
   "cell_type": "markdown",
   "metadata": {},
   "source": [
    "# 13. Analisis dan Kesimpulan"
   ]
  },
  {
   "attachments": {},
   "cell_type": "markdown",
   "metadata": {},
   "source": [
    "### Analysis pada EDA\n",
    "1. `Tidak terdapat missing value dan outlier` sehingga tidak perlu dilakukan handling missing value dan handling outlier\n",
    "\n",
    "2. Terdapat `2 jenis lab` yang digunakan untuk pengetesan nutrisi pada tanaman, dan `Lab 1` merupakan Lab yang paling sering digunakan, dengan total `100 kali` dibandingkan `lab 2` yang hanya `60 kali`\n",
    "\n",
    "3. `Distribusi nilai` target terilhat `normal` dengan rata-rata data pada Lab 1 berada di range `4.6 sampai 4.8`. sedangkan pada distribusi lab 2 bisa dikatakan merata. \n",
    "\n",
    "4. `Distribusi data pada kolom v1 sampai v8` jika dilihat dari nilai skewnessnya rata-rata memiliki nilai yang `tidak normal` atau `skewed`.\n",
    "hal ini `penting diketahui` untuk `menentukan metode korelasi apa yang akan dipilih`.\n",
    "\n",
    "### Analysis Keseluruhan\n",
    "\n",
    "1.  Dipilih metode korelasi `spearman berdasarkan nilai skewness` pada kolom v1 sampai v8 yang menunjukkan data terdistribusi `tidak normal`. <br> dari hasil korelasi dipilih hanya 6 feature dari 8 feature yang ada.\n",
    "\n",
    "2. Dilakukan `scalling dengan MinMaxScaler`, `metode ini tentu dipilih karena data terdistribusi tidak normal` maka perlu dilakukan normalisasi menggunakan MinMaxScaler.\n",
    "\n",
    "3. Modeling data dilakukan dengan menggunakan 5 algoritma, masing-masing:\n",
    "    - Linear Regression\n",
    "    - Support Vector Regressor\n",
    "    - Random Forest Regressor\n",
    "    - Gradient Boosting Regressor\n",
    "    - K-Neirest Neighbors\n",
    "\n",
    "Pertama dilakukan dengan `parameter default` lalu dilakukan `tuning parameter`.\n",
    "\n",
    "4. Setelah dilakukan modelling dilakukan evaluasi menggunakan metriks `MAE, RMSE dan MSE `. Hal ini dipilih untuk menentukan seberapa baik model yang telah di training\n",
    "\n",
    "dari `hasil evaluasi antara model default vs model tuning`, terlihat `tidak terlalu berbeda signifikan`, kecuali ada pada Random Forest dan Gradient boosting, namun hanya berbeda sedikit. Hal ini `disebabkan karena jumlah data yang sedikit`, yang menyebabkan model belum terlalu banyak berlatih utk mengenal data, sehingga model default maupun model tuning tidak memiliki perbedaan signifikan.\n",
    "\n",
    "\n",
    "5. Dari ke 5 algoritma tersebut dipilih algoritma `Gradient Boosting Regressor` menjadi algoritma `terbaik` karena memiliki nilai `ERORR` yang paling kecil.\n",
    "\n",
    "6. Dilakukan `test data inference` pada model terbaik `(Gradient Boosting Regressor)`. \n",
    "Dan hasilnya sesuai dari hasil evaluasi sebelumnya yakni erorr nya sangat Kecil."
   ]
  }
 ],
 "metadata": {
  "kernelspec": {
   "display_name": "Python 3",
   "language": "python",
   "name": "python3"
  },
  "language_info": {
   "codemirror_mode": {
    "name": "ipython",
    "version": 3
   },
   "file_extension": ".py",
   "mimetype": "text/x-python",
   "name": "python",
   "nbconvert_exporter": "python",
   "pygments_lexer": "ipython3",
   "version": "3.10.7"
  },
  "orig_nbformat": 4,
  "vscode": {
   "interpreter": {
    "hash": "40504c34cc0d0808e66074c7de62a5c01802c9147c97fb094e1524d5f521609c"
   }
  }
 },
 "nbformat": 4,
 "nbformat_minor": 2
}
